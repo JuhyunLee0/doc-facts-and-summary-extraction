{
  "cells": [
    {
      "cell_type": "markdown",
      "metadata": {
        "nteract": {
          "transient": {
            "deleting": false
          }
        }
      },
      "source": [
        "Before Running the Code.\n",
        "============\n"
      ]
    },
    {
      "cell_type": "code",
      "execution_count": 1,
      "metadata": {
        "gather": {
          "logged": 1711035286804
        },
        "jupyter": {
          "outputs_hidden": false,
          "source_hidden": false
        },
        "nteract": {
          "transient": {
            "deleting": false
          }
        }
      },
      "outputs": [],
      "source": [
        "! pip install -r requirements.txt --quiet"
      ]
    },
    {
      "cell_type": "markdown",
      "metadata": {},
      "source": [
        "### Initializing \n",
        "\n",
        "this demo will target single file to do extraction with, please make sure to change the target file name"
      ]
    },
    {
      "cell_type": "code",
      "execution_count": 24,
      "metadata": {
        "gather": {
          "logged": 1711035607455
        }
      },
      "outputs": [],
      "source": [
        "# import installed libraries\n",
        "from dotenv import load_dotenv\n",
        "import os\n",
        "import json\n",
        "import datetime\n",
        "import base64\n",
        "import requests\n",
        "from azure.core.credentials import AzureKeyCredential\n",
        "from azure.ai.documentintelligence import DocumentIntelligenceClient\n",
        "from azure.ai.documentintelligence.models import AnalyzeDocumentRequest, ContentFormat, AnalyzeResult\n",
        "from openai import AzureOpenAI\n",
        "import re\n",
        "\n",
        "\n",
        "# load environment variables\n",
        "load_dotenv(\"./.env\", override=True)\n",
        "target_file_name = \"Meta-Reports-First-Quarter-2024-Results-2024.pdf\"\n"
      ]
    },
    {
      "cell_type": "markdown",
      "metadata": {
        "nteract": {
          "transient": {
            "deleting": false
          }
        }
      },
      "source": [
        "### Initializing Doc Intel for text extraction"
      ]
    },
    {
      "cell_type": "code",
      "execution_count": 25,
      "metadata": {
        "gather": {
          "logged": 1711035609971
        },
        "jupyter": {
          "outputs_hidden": false,
          "source_hidden": false
        },
        "nteract": {
          "transient": {
            "deleting": false
          }
        }
      },
      "outputs": [],
      "source": [
        "\n",
        "docintel_endpoint=os.getenv(\"AZURE_DOC_INTEL_ENDPOINT\")\n",
        "docintel_key=os.getenv(\"AZURE_DOC_INTEL_KEY\")\n",
        "# document_analysis_client = DocumentAnalysisClient(endpoint=docintel_endpoint, credential=AzureKeyCredential(docintel_key))\n",
        "document_intelligence_client = DocumentIntelligenceClient(endpoint=docintel_endpoint, credential=AzureKeyCredential(docintel_key))\n",
        "\n"
      ]
    },
    {
      "cell_type": "markdown",
      "metadata": {},
      "source": [
        "### Running OCR, converting contents to makrdown format"
      ]
    },
    {
      "cell_type": "code",
      "execution_count": 35,
      "metadata": {},
      "outputs": [
        {
          "name": "stdout",
          "output_type": "stream",
          "text": [
            "c:\\Users\\juhyunlee\\workspace\\notebooks\\doc-facts-and-summary-extraction\\pdf\\Meta-Reports-First-Quarter-2024-Results-2024.pdf\n"
          ]
        }
      ],
      "source": [
        "path_to_sample_documents = os.path.abspath(\n",
        "        os.path.join(\n",
        "            os.path.dirname(os.path.abspath(\"__file__\")),\n",
        "            \"pdf\",\n",
        "            target_file_name\n",
        "        )\n",
        "    )\n",
        "\n",
        "print(path_to_sample_documents)\n",
        "\n",
        "with open(path_to_sample_documents, \"rb\") as f:\n",
        "    poller = document_intelligence_client.begin_analyze_document(\n",
        "        \"prebuilt-layout\", analyze_request=f, content_type=\"application/octet-stream\", output_content_format=ContentFormat.MARKDOWN\n",
        "    )\n",
        "result: AnalyzeResult = poller.result()\n",
        "\n",
        "md_file_name = target_file_name.replace(\".pdf\", \".md\")\n",
        "md_file_path = os.path.join(os.path.dirname(os.path.abspath(\"__file__\")), \"markdown\", md_file_name)\n",
        "os.makedirs(os.path.dirname(md_file_path), exist_ok=True)\n",
        "with open(md_file_path, 'w', encoding='utf-8') as md_file:\n",
        "    md_file.write(result.content)"
      ]
    },
    {
      "cell_type": "markdown",
      "metadata": {},
      "source": [
        "### Initializing the Azure OpenAI Client"
      ]
    },
    {
      "cell_type": "code",
      "execution_count": 36,
      "metadata": {},
      "outputs": [],
      "source": [
        "# define openai Client\n",
        "aoai_api_key = os.getenv(\"AZURE_OPENAI_KEY\")\n",
        "aoai_api_endpoint =  os.getenv(\"AZURE_OPENAI_ENDPOINT\")\n",
        "aoai_api_deployment_name = os.getenv(\"AZURE_OPENAI_DEPLOYMENT_NAME\")\n",
        "\n",
        "client = AzureOpenAI(\n",
        "    api_key=aoai_api_key,\n",
        "    api_version=\"2023-05-15\",\n",
        "    azure_endpoint=aoai_api_endpoint\n",
        ")"
      ]
    },
    {
      "cell_type": "markdown",
      "metadata": {},
      "source": [
        "### Defining functions to handle API Calls to Azure OpenAI"
      ]
    },
    {
      "cell_type": "code",
      "execution_count": 39,
      "metadata": {},
      "outputs": [],
      "source": [
        "def clean_json_string(json_string):\n",
        "    pattern = r'^```json\\s*(.*?)\\s*```$'\n",
        "    cleaned_string = re.sub(pattern, r'\\1', json_string, flags=re.DOTALL)\n",
        "    return cleaned_string.strip()\n",
        "\n",
        "def getResponseFromAoAI(systemPrompt, userPrompt):\n",
        "\n",
        "    conversaion = [\n",
        "        {\"role\": \"system\", \"content\": systemPrompt},\n",
        "        {\"role\": \"user\", \"content\": userPrompt}\n",
        "    ]\n",
        "\n",
        "    # Send the conversation to the API\n",
        "    response = client.chat.completions.create(\n",
        "        model=aoai_api_deployment_name, # The deployment name you chose when you deployed the GPT-35-Turbo or GPT-4 model.\n",
        "        messages=conversaion,\n",
        "        # response_format={ \"type\": \"json_object\" }, #requires ptu enabled gpt4\n",
        "        temperature=0,\n",
        "    )\n",
        "\n",
        "    # Print the assistant's response\n",
        "    responseText = response.choices[0].message.content\n",
        "    return responseText"
      ]
    },
    {
      "cell_type": "markdown",
      "metadata": {},
      "source": [
        "### Passing in the entire markdown to LLM as Context to extract information from"
      ]
    },
    {
      "cell_type": "code",
      "execution_count": 41,
      "metadata": {},
      "outputs": [
        {
          "name": "stdout",
          "output_type": "stream",
          "text": [
            "{\n",
            "  \"revenue\": \"$ 36,455\",\n",
            "  \"capital_expenditures\": \"$6.72 billion\",\n",
            "  \"headcount\": \"69,329\",\n",
            "  \"products_announced\": \"Meta Al with Llama 3\"\n",
            "}\n"
          ]
        }
      ],
      "source": [
        "# full_file_text = result.content\n",
        "md_file_name = target_file_name.replace(\".pdf\", \".md\")\n",
        "md_file_path = os.path.join(os.path.dirname(os.path.abspath(\"__file__\")), \"markdown\", md_file_name)\n",
        "with open(md_file_path, 'r') as file:\n",
        "    full_file_text = file.read()\n",
        "\n",
        "\n",
        "prepped_systemPrompt = '''\n",
        "    You are a helpful assistant that helps extract information, Do not generate output that isn't in properly formatted JSON.\n",
        "    Context will be providied with triple quotes. Answer only within the user given context. if there is no answer found, always return the key with empty string value.\n",
        "    Always provide answer in JSON Object.\n",
        "'''\n",
        "# \"Provide the Business name, Company name, Legal entity name, Date of incorporation?\"\n",
        "prepped_userPrompt = '''\n",
        "    \"\"\"\n",
        "        {context}\n",
        "    \"\"\"\n",
        "\n",
        "    Provide the revenue, capital expenditures, products annouced?\n",
        "'''.format(context=full_file_text)\n",
        "\n",
        "\n",
        "aoaiResp = getResponseFromAoAI(\n",
        "    prepped_systemPrompt,\n",
        "    prepped_userPrompt\n",
        ")\n",
        "\n",
        "cleaned_response = clean_json_string(aoaiResp)\n",
        "extracted = json.loads(cleaned_response)\n",
        "\n",
        "print(json.dumps(extracted, indent=2))"
      ]
    },
    {
      "cell_type": "markdown",
      "metadata": {},
      "source": [
        "### Running prompt to Summerize the Content as a whole by passing in the markdown"
      ]
    },
    {
      "cell_type": "code",
      "execution_count": 42,
      "metadata": {},
      "outputs": [
        {
          "name": "stdout",
          "output_type": "stream",
          "text": [
            "Meta Platforms, Inc. reported its financial results for the first quarter of 2024, ending March 31, 2024. Highlights include:\n",
            "\n",
            "- Revenue increased by 27% to $36.455 billion compared to $28.645 billion in Q1 2023.\n",
            "- Operating income rose by 91% to $13.818 billion from $7.227 billion the previous year.\n",
            "- Net income saw a significant increase of 117% to $12.369 billion, up from $5.709 billion in Q1 2023.\n",
            "- Diluted earnings per share (EPS) were up by 114% at $4.71, compared to $2.20 in the same quarter last year.\n",
            "- Daily active people (DAP) across Meta's family of apps grew by 7% year-over-year to 3.24 billion.\n",
            "- Ad impressions increased by 20% and the average price per ad grew by 6% year-over-year.\n",
            "- Total costs and expenses were up by 6% to $22.64 billion.\n",
            "- Capital expenditures, including principal payments on finance leases, were $6.72 billion.\n",
            "- Meta repurchased $14.64 billion of its Class A common stock and paid $1.27 billion in dividends.\n",
            "- The company's cash, cash equivalents, and marketable securities totaled $58.12 billion, with a free cash flow of $12.53 billion.\n",
            "- Headcount decreased by 10% year-over-year to 69,329.\n",
            "\n",
            "For the second quarter of 2024, Meta expects revenue to be between $36.5 billion and $39 billion. Full-year 2024 expenses are projected to be between $96 billion and $99 billion, with capital expenditures estimated to be in the range of $35 billion to $40 billion. The full-year tax rate is expected to be in the mid-teens.\n",
            "\n",
            "Meta emphasized its progress in AI with the new Meta AI and Llama 3, as well as its ongoing development of the metaverse. The company also acknowledged the challenges posed by an active regulatory landscape, particularly in the EU and the U.S.\n",
            "\n",
            "The financial results, along with other details, will be discussed in a conference call and webcast. Forward-looking statements in the report are based on current assumptions and may change due to various factors. Non-GAAP financial measures were also presented for additional insight into the company's performance.\n"
          ]
        }
      ],
      "source": [
        "# full_file_text = result.content\n",
        "md_file_name = target_file_name.replace(\".pdf\", \".md\")\n",
        "md_file_path = os.path.join(os.path.dirname(os.path.abspath(\"__file__\")), \"markdown\", md_file_name)\n",
        "with open(md_file_path, 'r') as file:\n",
        "    full_file_text = file.read()\n",
        "\n",
        "prepped_systemPrompt = '''\n",
        "    You are a helpful assistant that helps summarize information, only use the context given by user.\n",
        "    Context will be provided via triple quotes.\n",
        "'''\n",
        "\n",
        "# \"Provide the Business name, Company name, Legal entity name, Date of incorporation?\"\n",
        "prepped_userPrompt = '''\n",
        "    \"\"\"\n",
        "        {context}\n",
        "    \"\"\"\n",
        "\n",
        "    Summarize the information provided in the context.\n",
        "'''.format(context=full_file_text)\n",
        "\n",
        "aoaiResp = getResponseFromAoAI(\n",
        "    prepped_systemPrompt,\n",
        "    prepped_userPrompt\n",
        ")\n",
        "\n",
        "print(aoaiResp)"
      ]
    },
    {
      "cell_type": "markdown",
      "metadata": {},
      "source": [
        "<br />\n",
        "<br />\n",
        "\n",
        "<hr />\n",
        "<h2>Markdown Header chunking strategy for larger files</h2>\n",
        "<hr />\n",
        "\n",
        "<br />\n",
        "<br />"
      ]
    },
    {
      "cell_type": "code",
      "execution_count": null,
      "metadata": {},
      "outputs": [],
      "source": [
        "! pip install langchain langchain_community unstructured markdown langchain-text-splitters"
      ]
    },
    {
      "cell_type": "markdown",
      "metadata": {},
      "source": [
        "### Loading the markdown file"
      ]
    },
    {
      "cell_type": "code",
      "execution_count": 44,
      "metadata": {},
      "outputs": [
        {
          "name": "stdout",
          "output_type": "stream",
          "text": [
            "c:\\Users\\juhyunlee\\workspace\\notebooks\\doc-facts-and-summary-extraction\\markdown\\Meta-Reports-First-Quarter-2024-Results-2024.md\n",
            "[Document(page_content='FACEBOOK', metadata={'source': 'c:\\\\Users\\\\juhyunlee\\\\workspace\\\\notebooks\\\\doc-facts-and-summary-extraction\\\\markdown\\\\Meta-Reports-First-Quarter-2024-Results-2024.md', 'last_modified': '2024-05-20T09:57:07', 'languages': ['eng'], 'filetype': 'text/markdown', 'file_directory': 'c:\\\\Users\\\\juhyunlee\\\\workspace\\\\notebooks\\\\doc-facts-and-summary-extraction\\\\markdown', 'filename': 'Meta-Reports-First-Quarter-2024-Results-2024.md', 'category': 'Title'}), Document(page_content='Meta Reports First Quarter 2024 Results', metadata={'source': 'c:\\\\Users\\\\juhyunlee\\\\workspace\\\\notebooks\\\\doc-facts-and-summary-extraction\\\\markdown\\\\Meta-Reports-First-Quarter-2024-Results-2024.md', 'last_modified': '2024-05-20T09:57:07', 'languages': ['eng'], 'filetype': 'text/markdown', 'file_directory': 'c:\\\\Users\\\\juhyunlee\\\\workspace\\\\notebooks\\\\doc-facts-and-summary-extraction\\\\markdown', 'filename': 'Meta-Reports-First-Quarter-2024-Results-2024.md', 'category': 'Title'}), Document(page_content='MENLO PARK, Calif., April 24, 2024 /PRNewswire/ -- Meta Platforms, Inc. (Nasdaq: META) today reported financial results for the quarter ended March 31, 2024.', metadata={'source': 'c:\\\\Users\\\\juhyunlee\\\\workspace\\\\notebooks\\\\doc-facts-and-summary-extraction\\\\markdown\\\\Meta-Reports-First-Quarter-2024-Results-2024.md', 'last_modified': '2024-05-20T09:57:07', 'languages': ['eng'], 'parent_id': 'de8c3de5a7fed8869a7e22146ab0c21b', 'filetype': 'text/markdown', 'file_directory': 'c:\\\\Users\\\\juhyunlee\\\\workspace\\\\notebooks\\\\doc-facts-and-summary-extraction\\\\markdown', 'filename': 'Meta-Reports-First-Quarter-2024-Results-2024.md', 'category': 'NarrativeText'}), Document(page_content='\"It\\'s been a good start to the year,\" said Mark Zuckerberg, Meta founder and CEO. \"The new version of Meta Al with Llama 3 is another step towards building the world\\'s leading Al. We\\'re seeing healthy growth across our apps and we continue making steady progress building the metaverse as well.\"', metadata={'source': 'c:\\\\Users\\\\juhyunlee\\\\workspace\\\\notebooks\\\\doc-facts-and-summary-extraction\\\\markdown\\\\Meta-Reports-First-Quarter-2024-Results-2024.md', 'last_modified': '2024-05-20T09:57:07', 'languages': ['eng'], 'parent_id': 'de8c3de5a7fed8869a7e22146ab0c21b', 'filetype': 'text/markdown', 'file_directory': 'c:\\\\Users\\\\juhyunlee\\\\workspace\\\\notebooks\\\\doc-facts-and-summary-extraction\\\\markdown', 'filename': 'Meta-Reports-First-Quarter-2024-Results-2024.md', 'category': 'NarrativeText'}), Document(page_content='First Quarter 2024 Financial Highlights', metadata={'source': 'c:\\\\Users\\\\juhyunlee\\\\workspace\\\\notebooks\\\\doc-facts-and-summary-extraction\\\\markdown\\\\Meta-Reports-First-Quarter-2024-Results-2024.md', 'last_modified': '2024-05-20T09:57:07', 'languages': ['eng'], 'filetype': 'text/markdown', 'file_directory': 'c:\\\\Users\\\\juhyunlee\\\\workspace\\\\notebooks\\\\doc-facts-and-summary-extraction\\\\markdown', 'filename': 'Meta-Reports-First-Quarter-2024-Results-2024.md', 'category': 'Title'}), Document(page_content='| In millions, except percentages and per share amounts | Three Months Ended March 31, || % Change |\\n|| 2024 | 2023 ||\\n| - | - | - | - |\\n| Revenue | $ 36,455 | $ 28,645 | 27 % |\\n| Costs and expenses | 22,637 | 21,418 | 6 % |\\n| Income from operations | $ 13,818 | $ 7,227 | 91 % |\\n| Operating margin | 38 % | 25 % | |\\n| Provision for income taxes | $ 1,814 | $ 1,598 | 14 % |\\n| Effective tax rate | 13 % | 22 % | |\\n| Net income | $ 12,369 | $ 5,709 | 117 % |\\n| Diluted earnings per share (EPS) | $ 4.71 | $ 2.20 | 114 % |', metadata={'source': 'c:\\\\Users\\\\juhyunlee\\\\workspace\\\\notebooks\\\\doc-facts-and-summary-extraction\\\\markdown\\\\Meta-Reports-First-Quarter-2024-Results-2024.md', 'last_modified': '2024-05-20T09:57:07', 'languages': ['eng'], 'parent_id': '5caf37b5409f5d8d8e919ac7508d2fd8', 'filetype': 'text/markdown', 'file_directory': 'c:\\\\Users\\\\juhyunlee\\\\workspace\\\\notebooks\\\\doc-facts-and-summary-extraction\\\\markdown', 'filename': 'Meta-Reports-First-Quarter-2024-Results-2024.md', 'category': 'NarrativeText'}), Document(page_content='First Quarter 2024 Operational and Other Financial Highlights', metadata={'source': 'c:\\\\Users\\\\juhyunlee\\\\workspace\\\\notebooks\\\\doc-facts-and-summary-extraction\\\\markdown\\\\Meta-Reports-First-Quarter-2024-Results-2024.md', 'last_modified': '2024-05-20T09:57:07', 'languages': ['eng'], 'filetype': 'text/markdown', 'file_directory': 'c:\\\\Users\\\\juhyunlee\\\\workspace\\\\notebooks\\\\doc-facts-and-summary-extraction\\\\markdown', 'filename': 'Meta-Reports-First-Quarter-2024-Results-2024.md', 'category': 'Title'}), Document(page_content='. Family daily active people (DAP) - DAP was 3.24 billion on average for March 2024, an increase of 7% year- over-year.', metadata={'source': 'c:\\\\Users\\\\juhyunlee\\\\workspace\\\\notebooks\\\\doc-facts-and-summary-extraction\\\\markdown\\\\Meta-Reports-First-Quarter-2024-Results-2024.md', 'last_modified': '2024-05-20T09:57:07', 'languages': ['eng'], 'parent_id': 'd6e3f30edf8fa6f8046a6132d5177c43', 'filetype': 'text/markdown', 'file_directory': 'c:\\\\Users\\\\juhyunlee\\\\workspace\\\\notebooks\\\\doc-facts-and-summary-extraction\\\\markdown', 'filename': 'Meta-Reports-First-Quarter-2024-Results-2024.md', 'category': 'NarrativeText'}), Document(page_content='. Ad impressions - Ad impressions delivered across our Family of Apps increased by 20% year-over-year.', metadata={'source': 'c:\\\\Users\\\\juhyunlee\\\\workspace\\\\notebooks\\\\doc-facts-and-summary-extraction\\\\markdown\\\\Meta-Reports-First-Quarter-2024-Results-2024.md', 'last_modified': '2024-05-20T09:57:07', 'languages': ['eng'], 'parent_id': 'd6e3f30edf8fa6f8046a6132d5177c43', 'filetype': 'text/markdown', 'file_directory': 'c:\\\\Users\\\\juhyunlee\\\\workspace\\\\notebooks\\\\doc-facts-and-summary-extraction\\\\markdown', 'filename': 'Meta-Reports-First-Quarter-2024-Results-2024.md', 'category': 'NarrativeText'}), Document(page_content='Average price per ad - Average price per ad increased by 6% year-over-year.', metadata={'source': 'c:\\\\Users\\\\juhyunlee\\\\workspace\\\\notebooks\\\\doc-facts-and-summary-extraction\\\\markdown\\\\Meta-Reports-First-Quarter-2024-Results-2024.md', 'last_modified': '2024-05-20T09:57:07', 'languages': ['eng'], 'parent_id': 'd6e3f30edf8fa6f8046a6132d5177c43', 'filetype': 'text/markdown', 'file_directory': 'c:\\\\Users\\\\juhyunlee\\\\workspace\\\\notebooks\\\\doc-facts-and-summary-extraction\\\\markdown', 'filename': 'Meta-Reports-First-Quarter-2024-Results-2024.md', 'category': 'ListItem'}), Document(page_content='. Revenue - Total revenue and revenue on a constant currency basis were $36.46 billion and $36.35 billion,', metadata={'source': 'c:\\\\Users\\\\juhyunlee\\\\workspace\\\\notebooks\\\\doc-facts-and-summary-extraction\\\\markdown\\\\Meta-Reports-First-Quarter-2024-Results-2024.md', 'last_modified': '2024-05-20T09:57:07', 'languages': ['eng'], 'parent_id': 'd6e3f30edf8fa6f8046a6132d5177c43', 'filetype': 'text/markdown', 'file_directory': 'c:\\\\Users\\\\juhyunlee\\\\workspace\\\\notebooks\\\\doc-facts-and-summary-extraction\\\\markdown', 'filename': 'Meta-Reports-First-Quarter-2024-Results-2024.md', 'category': 'NarrativeText'}), Document(page_content='respectively, both of which increased by 27% year-over-year.', metadata={'source': 'c:\\\\Users\\\\juhyunlee\\\\workspace\\\\notebooks\\\\doc-facts-and-summary-extraction\\\\markdown\\\\Meta-Reports-First-Quarter-2024-Results-2024.md', 'last_modified': '2024-05-20T09:57:07', 'languages': ['eng'], 'parent_id': 'd6e3f30edf8fa6f8046a6132d5177c43', 'filetype': 'text/markdown', 'file_directory': 'c:\\\\Users\\\\juhyunlee\\\\workspace\\\\notebooks\\\\doc-facts-and-summary-extraction\\\\markdown', 'filename': 'Meta-Reports-First-Quarter-2024-Results-2024.md', 'category': 'NarrativeText'}), Document(page_content='. Costs and expenses - Total costs and expenses were $22.64 billion, an increase of 6% year-over-year.', metadata={'source': 'c:\\\\Users\\\\juhyunlee\\\\workspace\\\\notebooks\\\\doc-facts-and-summary-extraction\\\\markdown\\\\Meta-Reports-First-Quarter-2024-Results-2024.md', 'last_modified': '2024-05-20T09:57:07', 'languages': ['eng'], 'parent_id': 'd6e3f30edf8fa6f8046a6132d5177c43', 'filetype': 'text/markdown', 'file_directory': 'c:\\\\Users\\\\juhyunlee\\\\workspace\\\\notebooks\\\\doc-facts-and-summary-extraction\\\\markdown', 'filename': 'Meta-Reports-First-Quarter-2024-Results-2024.md', 'category': 'NarrativeText'}), Document(page_content='Capital expenditures - Capital expenditures, including principal payments on finance leases, were $6.72 billion.', metadata={'source': 'c:\\\\Users\\\\juhyunlee\\\\workspace\\\\notebooks\\\\doc-facts-and-summary-extraction\\\\markdown\\\\Meta-Reports-First-Quarter-2024-Results-2024.md', 'last_modified': '2024-05-20T09:57:07', 'languages': ['eng'], 'parent_id': 'd6e3f30edf8fa6f8046a6132d5177c43', 'filetype': 'text/markdown', 'file_directory': 'c:\\\\Users\\\\juhyunlee\\\\workspace\\\\notebooks\\\\doc-facts-and-summary-extraction\\\\markdown', 'filename': 'Meta-Reports-First-Quarter-2024-Results-2024.md', 'category': 'ListItem'}), Document(page_content='Capital return program - Share repurchases were $14.64 billion of our Class A common stock and dividends payments were $1.27 billion.', metadata={'source': 'c:\\\\Users\\\\juhyunlee\\\\workspace\\\\notebooks\\\\doc-facts-and-summary-extraction\\\\markdown\\\\Meta-Reports-First-Quarter-2024-Results-2024.md', 'last_modified': '2024-05-20T09:57:07', 'languages': ['eng'], 'parent_id': 'd6e3f30edf8fa6f8046a6132d5177c43', 'filetype': 'text/markdown', 'file_directory': 'c:\\\\Users\\\\juhyunlee\\\\workspace\\\\notebooks\\\\doc-facts-and-summary-extraction\\\\markdown', 'filename': 'Meta-Reports-First-Quarter-2024-Results-2024.md', 'category': 'ListItem'}), Document(page_content='Cash, cash equivalents, and marketable securities - Cash, cash equivalents, and marketable securities were $58.12 billion as of March 31, 2024. Free cash flow was $12.53 billion.', metadata={'source': 'c:\\\\Users\\\\juhyunlee\\\\workspace\\\\notebooks\\\\doc-facts-and-summary-extraction\\\\markdown\\\\Meta-Reports-First-Quarter-2024-Results-2024.md', 'last_modified': '2024-05-20T09:57:07', 'languages': ['eng'], 'parent_id': 'd6e3f30edf8fa6f8046a6132d5177c43', 'filetype': 'text/markdown', 'file_directory': 'c:\\\\Users\\\\juhyunlee\\\\workspace\\\\notebooks\\\\doc-facts-and-summary-extraction\\\\markdown', 'filename': 'Meta-Reports-First-Quarter-2024-Results-2024.md', 'category': 'ListItem'}), Document(page_content='. Headcount - Headcount was 69,329 as of March 31, 2024, a decrease of 10% year-over-year.', metadata={'source': 'c:\\\\Users\\\\juhyunlee\\\\workspace\\\\notebooks\\\\doc-facts-and-summary-extraction\\\\markdown\\\\Meta-Reports-First-Quarter-2024-Results-2024.md', 'last_modified': '2024-05-20T09:57:07', 'languages': ['eng'], 'parent_id': 'd6e3f30edf8fa6f8046a6132d5177c43', 'filetype': 'text/markdown', 'file_directory': 'c:\\\\Users\\\\juhyunlee\\\\workspace\\\\notebooks\\\\doc-facts-and-summary-extraction\\\\markdown', 'filename': 'Meta-Reports-First-Quarter-2024-Results-2024.md', 'category': 'NarrativeText'}), Document(page_content='CFO Outlook Commentary', metadata={'source': 'c:\\\\Users\\\\juhyunlee\\\\workspace\\\\notebooks\\\\doc-facts-and-summary-extraction\\\\markdown\\\\Meta-Reports-First-Quarter-2024-Results-2024.md', 'last_modified': '2024-05-20T09:57:07', 'languages': ['eng'], 'filetype': 'text/markdown', 'file_directory': 'c:\\\\Users\\\\juhyunlee\\\\workspace\\\\notebooks\\\\doc-facts-and-summary-extraction\\\\markdown', 'filename': 'Meta-Reports-First-Quarter-2024-Results-2024.md', 'category': 'Title'}), Document(page_content='We expect second quarter 2024 total revenue to be in the range of $36.5-39 billion. Our guidance assumes foreign currency is a 1% headwind to year-over-year total revenue growth, based on current exchange rates.', metadata={'source': 'c:\\\\Users\\\\juhyunlee\\\\workspace\\\\notebooks\\\\doc-facts-and-summary-extraction\\\\markdown\\\\Meta-Reports-First-Quarter-2024-Results-2024.md', 'last_modified': '2024-05-20T09:57:07', 'languages': ['eng'], 'parent_id': '5daf4e7261271a7020d8a961074190a4', 'filetype': 'text/markdown', 'file_directory': 'c:\\\\Users\\\\juhyunlee\\\\workspace\\\\notebooks\\\\doc-facts-and-summary-extraction\\\\markdown', 'filename': 'Meta-Reports-First-Quarter-2024-Results-2024.md', 'category': 'NarrativeText'}), Document(page_content='We expect full-year 2024 total expenses to be in the range of $96-99 billion, updated from our prior outlook of $94- 99 billion due to higher infrastructure and legal costs. For Reality Labs, we continue to expect operating losses to increase meaningfully year-over-year due to our ongoing product development efforts and our investments to further scale our ecosystem.', metadata={'source': 'c:\\\\Users\\\\juhyunlee\\\\workspace\\\\notebooks\\\\doc-facts-and-summary-extraction\\\\markdown\\\\Meta-Reports-First-Quarter-2024-Results-2024.md', 'last_modified': '2024-05-20T09:57:07', 'languages': ['eng'], 'parent_id': '5daf4e7261271a7020d8a961074190a4', 'filetype': 'text/markdown', 'file_directory': 'c:\\\\Users\\\\juhyunlee\\\\workspace\\\\notebooks\\\\doc-facts-and-summary-extraction\\\\markdown', 'filename': 'Meta-Reports-First-Quarter-2024-Results-2024.md', 'category': 'NarrativeText'}), Document(page_content='We anticipate our full-year 2024 capital expenditures will be in the range of $35-40 billion, increased from our prior range of $30-37 billion as we continue to accelerate our infrastructure investments to support our artificial intelligence (Al) roadmap. While we are not providing guidance for years beyond 2024, we expect capital expenditures will continue to increase next year as we invest aggressively to support our ambitious Al research and product development efforts.', metadata={'source': 'c:\\\\Users\\\\juhyunlee\\\\workspace\\\\notebooks\\\\doc-facts-and-summary-extraction\\\\markdown\\\\Meta-Reports-First-Quarter-2024-Results-2024.md', 'last_modified': '2024-05-20T09:57:07', 'languages': ['eng'], 'parent_id': '5daf4e7261271a7020d8a961074190a4', 'filetype': 'text/markdown', 'file_directory': 'c:\\\\Users\\\\juhyunlee\\\\workspace\\\\notebooks\\\\doc-facts-and-summary-extraction\\\\markdown', 'filename': 'Meta-Reports-First-Quarter-2024-Results-2024.md', 'category': 'NarrativeText'}), Document(page_content='Absent any changes to our tax landscape, we expect our full-year 2024 tax rate to be in the mid-teens.', metadata={'source': 'c:\\\\Users\\\\juhyunlee\\\\workspace\\\\notebooks\\\\doc-facts-and-summary-extraction\\\\markdown\\\\Meta-Reports-First-Quarter-2024-Results-2024.md', 'last_modified': '2024-05-20T09:57:07', 'languages': ['eng'], 'parent_id': '5daf4e7261271a7020d8a961074190a4', 'filetype': 'text/markdown', 'file_directory': 'c:\\\\Users\\\\juhyunlee\\\\workspace\\\\notebooks\\\\doc-facts-and-summary-extraction\\\\markdown', 'filename': 'Meta-Reports-First-Quarter-2024-Results-2024.md', 'category': 'NarrativeText'}), Document(page_content='In addition, we continue to monitor an active regulatory landscape, including the increasing legal and regulatory headwinds in the EU and the U.S. that could significantly impact our business and our financial results.', metadata={'source': 'c:\\\\Users\\\\juhyunlee\\\\workspace\\\\notebooks\\\\doc-facts-and-summary-extraction\\\\markdown\\\\Meta-Reports-First-Quarter-2024-Results-2024.md', 'last_modified': '2024-05-20T09:57:07', 'languages': ['eng'], 'parent_id': '5daf4e7261271a7020d8a961074190a4', 'filetype': 'text/markdown', 'file_directory': 'c:\\\\Users\\\\juhyunlee\\\\workspace\\\\notebooks\\\\doc-facts-and-summary-extraction\\\\markdown', 'filename': 'Meta-Reports-First-Quarter-2024-Results-2024.md', 'category': 'NarrativeText'}), Document(page_content=\"Q1 was a good start to the year. We're seeing strong momentum within our Family of Apps and are making important progress on our longer-term Al and Reality Labs initiatives that have the potential to transform the way people interact with our services over the coming years.\", metadata={'source': 'c:\\\\Users\\\\juhyunlee\\\\workspace\\\\notebooks\\\\doc-facts-and-summary-extraction\\\\markdown\\\\Meta-Reports-First-Quarter-2024-Results-2024.md', 'last_modified': '2024-05-20T09:57:07', 'languages': ['eng'], 'parent_id': '5daf4e7261271a7020d8a961074190a4', 'filetype': 'text/markdown', 'file_directory': 'c:\\\\Users\\\\juhyunlee\\\\workspace\\\\notebooks\\\\doc-facts-and-summary-extraction\\\\markdown', 'filename': 'Meta-Reports-First-Quarter-2024-Results-2024.md', 'category': 'NarrativeText'}), Document(page_content=\"Meta will host a conference call to discuss the results at 2:00 p.m. PT / 5:00 p.m. ET today. The live webcast of Meta's earnings conference call can be accessed at investor.fb.com, along with the earnings press release, financial tables, and slide presentation. Meta uses the investor.fb.com and about.fb.com/news/ websites as well as Mark Zuckerberg's Facebook Page (facebook.com/zuck), Instagram account (instagram.com/zuck) and Threads profile (threads.net/zuck) as means of disclosing material non-public information and for complying with its disclosure obligations under Regulation FD.\", metadata={'source': 'c:\\\\Users\\\\juhyunlee\\\\workspace\\\\notebooks\\\\doc-facts-and-summary-extraction\\\\markdown\\\\Meta-Reports-First-Quarter-2024-Results-2024.md', 'last_modified': '2024-05-20T09:57:07', 'languages': ['eng'], 'parent_id': '5daf4e7261271a7020d8a961074190a4', 'filetype': 'text/markdown', 'file_directory': 'c:\\\\Users\\\\juhyunlee\\\\workspace\\\\notebooks\\\\doc-facts-and-summary-extraction\\\\markdown', 'filename': 'Meta-Reports-First-Quarter-2024-Results-2024.md', 'category': 'NarrativeText'}), Document(page_content='Following the call, a replay will be available at the same website. Transcripts of conference calls with publishing equity research analysts held today will also be posted to the investor.fb.com website.', metadata={'source': 'c:\\\\Users\\\\juhyunlee\\\\workspace\\\\notebooks\\\\doc-facts-and-summary-extraction\\\\markdown\\\\Meta-Reports-First-Quarter-2024-Results-2024.md', 'last_modified': '2024-05-20T09:57:07', 'languages': ['eng'], 'parent_id': '5daf4e7261271a7020d8a961074190a4', 'filetype': 'text/markdown', 'file_directory': 'c:\\\\Users\\\\juhyunlee\\\\workspace\\\\notebooks\\\\doc-facts-and-summary-extraction\\\\markdown', 'filename': 'Meta-Reports-First-Quarter-2024-Results-2024.md', 'category': 'NarrativeText'}), Document(page_content='About Meta', metadata={'source': 'c:\\\\Users\\\\juhyunlee\\\\workspace\\\\notebooks\\\\doc-facts-and-summary-extraction\\\\markdown\\\\Meta-Reports-First-Quarter-2024-Results-2024.md', 'last_modified': '2024-05-20T09:57:07', 'languages': ['eng'], 'filetype': 'text/markdown', 'file_directory': 'c:\\\\Users\\\\juhyunlee\\\\workspace\\\\notebooks\\\\doc-facts-and-summary-extraction\\\\markdown', 'filename': 'Meta-Reports-First-Quarter-2024-Results-2024.md', 'category': 'Title'}), Document(page_content='Meta builds technologies that help people connect, find communities, and grow businesses. When Facebook launched in 2004, it changed the way people connect. Apps like Messenger, Instagram, and WhatsApp further empowered billions around the world. Now, Meta is moving beyond 2D screens toward immersive experiences like augmented and virtual reality to help build the next evolution in social technology.', metadata={'source': 'c:\\\\Users\\\\juhyunlee\\\\workspace\\\\notebooks\\\\doc-facts-and-summary-extraction\\\\markdown\\\\Meta-Reports-First-Quarter-2024-Results-2024.md', 'last_modified': '2024-05-20T09:57:07', 'languages': ['eng'], 'parent_id': 'af8b7657c5def2a04f8122cae7029117', 'filetype': 'text/markdown', 'file_directory': 'c:\\\\Users\\\\juhyunlee\\\\workspace\\\\notebooks\\\\doc-facts-and-summary-extraction\\\\markdown', 'filename': 'Meta-Reports-First-Quarter-2024-Results-2024.md', 'category': 'NarrativeText'}), Document(page_content='Contacts', metadata={'source': 'c:\\\\Users\\\\juhyunlee\\\\workspace\\\\notebooks\\\\doc-facts-and-summary-extraction\\\\markdown\\\\Meta-Reports-First-Quarter-2024-Results-2024.md', 'last_modified': '2024-05-20T09:57:07', 'languages': ['eng'], 'filetype': 'text/markdown', 'file_directory': 'c:\\\\Users\\\\juhyunlee\\\\workspace\\\\notebooks\\\\doc-facts-and-summary-extraction\\\\markdown', 'filename': 'Meta-Reports-First-Quarter-2024-Results-2024.md', 'category': 'Title'}), Document(page_content='Investors: Kenneth Dorell investor@meta.com / investor.fb.com', metadata={'source': 'c:\\\\Users\\\\juhyunlee\\\\workspace\\\\notebooks\\\\doc-facts-and-summary-extraction\\\\markdown\\\\Meta-Reports-First-Quarter-2024-Results-2024.md', 'last_modified': '2024-05-20T09:57:07', 'languages': ['eng'], 'filetype': 'text/markdown', 'file_directory': 'c:\\\\Users\\\\juhyunlee\\\\workspace\\\\notebooks\\\\doc-facts-and-summary-extraction\\\\markdown', 'filename': 'Meta-Reports-First-Quarter-2024-Results-2024.md', 'category': 'Title'}), Document(page_content='Press: Ryan Moore', metadata={'source': 'c:\\\\Users\\\\juhyunlee\\\\workspace\\\\notebooks\\\\doc-facts-and-summary-extraction\\\\markdown\\\\Meta-Reports-First-Quarter-2024-Results-2024.md', 'last_modified': '2024-05-20T09:57:07', 'languages': ['eng'], 'filetype': 'text/markdown', 'file_directory': 'c:\\\\Users\\\\juhyunlee\\\\workspace\\\\notebooks\\\\doc-facts-and-summary-extraction\\\\markdown', 'filename': 'Meta-Reports-First-Quarter-2024-Results-2024.md', 'category': 'Title'}), Document(page_content='press@meta.com / about.fb.com/news/', metadata={'source': 'c:\\\\Users\\\\juhyunlee\\\\workspace\\\\notebooks\\\\doc-facts-and-summary-extraction\\\\markdown\\\\Meta-Reports-First-Quarter-2024-Results-2024.md', 'last_modified': '2024-05-20T09:57:07', 'languages': ['eng'], 'filetype': 'text/markdown', 'file_directory': 'c:\\\\Users\\\\juhyunlee\\\\workspace\\\\notebooks\\\\doc-facts-and-summary-extraction\\\\markdown', 'filename': 'Meta-Reports-First-Quarter-2024-Results-2024.md', 'category': 'EmailAddress'}), Document(page_content='Forward-Looking Statements', metadata={'source': 'c:\\\\Users\\\\juhyunlee\\\\workspace\\\\notebooks\\\\doc-facts-and-summary-extraction\\\\markdown\\\\Meta-Reports-First-Quarter-2024-Results-2024.md', 'last_modified': '2024-05-20T09:57:07', 'languages': ['eng'], 'filetype': 'text/markdown', 'file_directory': 'c:\\\\Users\\\\juhyunlee\\\\workspace\\\\notebooks\\\\doc-facts-and-summary-extraction\\\\markdown', 'filename': 'Meta-Reports-First-Quarter-2024-Results-2024.md', 'category': 'Title'}), Document(page_content='This press release contains forward-looking statements regarding our future business plans and expectations. These forward-looking statements are only predictions and may differ materially from actual results due to a variety of factors including: the impact of macroeconomic conditions on our business and financial results, including as a result of geopolitical events; our ability to retain or increase users and engagement levels; our reliance on', metadata={'source': 'c:\\\\Users\\\\juhyunlee\\\\workspace\\\\notebooks\\\\doc-facts-and-summary-extraction\\\\markdown\\\\Meta-Reports-First-Quarter-2024-Results-2024.md', 'last_modified': '2024-05-20T09:57:07', 'languages': ['eng'], 'parent_id': '10da041ddd1be53ed51adb5e01a7b62f', 'filetype': 'text/markdown', 'file_directory': 'c:\\\\Users\\\\juhyunlee\\\\workspace\\\\notebooks\\\\doc-facts-and-summary-extraction\\\\markdown', 'filename': 'Meta-Reports-First-Quarter-2024-Results-2024.md', 'category': 'NarrativeText'}), Document(page_content='advertising revenue; our dependency on data signals and mobile operating systems, networks, and standards that we do not control; changes to the content or application of third-party policies that impact our advertising practices; risks associated with new products and changes to existing products as well as other new business initiatives, including our artificial intelligence initiatives and metaverse efforts; our emphasis on community growth and engagement and the user experience over short-term financial results; maintaining and enhancing our brand and reputation; our ongoing privacy, safety, security, and content review efforts; competition; risks associated with government actions that could restrict access to our products or impair our ability to sell advertising in certain countries; litigation and government inquiries; privacy, legislative, and regulatory concerns or developments; risks associated with acquisitions; security breaches; our ability to manage our scale and geographically-dispersed operations; and market conditions or other factors affecting the payment of dividends. These and other potential risks and uncertainties that could cause actual results to differ from the results predicted are more fully detailed under the caption \"Risk Factors\" in our Annual Report on Form 10-K filed with the SEC on February 2, 2024, which is available on our Investor Relations website at investor.fb.com and on the SEC website at www.sec.gov. Additional information will also be set forth in our Quarterly Report on Form 10-Q for the quarter ended March 31, 2024. In addition, please note that the date of this press release is April 24, 2024, and any forward-looking statements contained herein are based on assumptions that we believe to be reasonable as of this date. We undertake no obligation to update these statements as a result of new information or future events.', metadata={'source': 'c:\\\\Users\\\\juhyunlee\\\\workspace\\\\notebooks\\\\doc-facts-and-summary-extraction\\\\markdown\\\\Meta-Reports-First-Quarter-2024-Results-2024.md', 'last_modified': '2024-05-20T09:57:07', 'languages': ['eng'], 'parent_id': '10da041ddd1be53ed51adb5e01a7b62f', 'filetype': 'text/markdown', 'file_directory': 'c:\\\\Users\\\\juhyunlee\\\\workspace\\\\notebooks\\\\doc-facts-and-summary-extraction\\\\markdown', 'filename': 'Meta-Reports-First-Quarter-2024-Results-2024.md', 'category': 'NarrativeText'}), Document(page_content='For a discussion of limitations in the measurement of certain of our community metrics, see the section entitled \"Limitations of Key Metrics and Other Data\" in our most recent quarterly or annual report filed with the SEC.', metadata={'source': 'c:\\\\Users\\\\juhyunlee\\\\workspace\\\\notebooks\\\\doc-facts-and-summary-extraction\\\\markdown\\\\Meta-Reports-First-Quarter-2024-Results-2024.md', 'last_modified': '2024-05-20T09:57:07', 'languages': ['eng'], 'parent_id': '10da041ddd1be53ed51adb5e01a7b62f', 'filetype': 'text/markdown', 'file_directory': 'c:\\\\Users\\\\juhyunlee\\\\workspace\\\\notebooks\\\\doc-facts-and-summary-extraction\\\\markdown', 'filename': 'Meta-Reports-First-Quarter-2024-Results-2024.md', 'category': 'NarrativeText'}), Document(page_content='Non-GAAP Financial Measures', metadata={'source': 'c:\\\\Users\\\\juhyunlee\\\\workspace\\\\notebooks\\\\doc-facts-and-summary-extraction\\\\markdown\\\\Meta-Reports-First-Quarter-2024-Results-2024.md', 'last_modified': '2024-05-20T09:57:07', 'languages': ['eng'], 'filetype': 'text/markdown', 'file_directory': 'c:\\\\Users\\\\juhyunlee\\\\workspace\\\\notebooks\\\\doc-facts-and-summary-extraction\\\\markdown', 'filename': 'Meta-Reports-First-Quarter-2024-Results-2024.md', 'category': 'Title'}), Document(page_content='To supplement our condensed consolidated financial statements, which are prepared and presented in accordance with generally accepted accounting principles in the United States (GAAP), we use the following non-GAAP financial measures: revenue excluding foreign exchange effect, advertising revenue excluding foreign exchange effect, and free cash flow. The presentation of these financial measures is not intended to be considered in isolation or as a substitute for, or superior to, financial information prepared and presented in accordance with GAAP. Investors are cautioned that there are material limitations associated with the use of non-GAAP financial measures as an analytical tool. In addition, these measures may be different from non-GAAP financial measures used by other companies, limiting their usefulness for comparison purposes. We compensate for these limitations by providing specific information regarding the GAAP amounts excluded from these non-GAAP financial measures.', metadata={'source': 'c:\\\\Users\\\\juhyunlee\\\\workspace\\\\notebooks\\\\doc-facts-and-summary-extraction\\\\markdown\\\\Meta-Reports-First-Quarter-2024-Results-2024.md', 'last_modified': '2024-05-20T09:57:07', 'languages': ['eng'], 'parent_id': 'b43529a7e0379dddccf6bceadbec6a3a', 'filetype': 'text/markdown', 'file_directory': 'c:\\\\Users\\\\juhyunlee\\\\workspace\\\\notebooks\\\\doc-facts-and-summary-extraction\\\\markdown', 'filename': 'Meta-Reports-First-Quarter-2024-Results-2024.md', 'category': 'NarrativeText'}), Document(page_content='We believe these non-GAAP financial measures provide investors with useful supplemental information about the financial performance of our business, enable comparison of financial results between periods where certain items may vary independent of business performance, and allow for greater transparency with respect to key metrics used by management in operating our business.', metadata={'source': 'c:\\\\Users\\\\juhyunlee\\\\workspace\\\\notebooks\\\\doc-facts-and-summary-extraction\\\\markdown\\\\Meta-Reports-First-Quarter-2024-Results-2024.md', 'last_modified': '2024-05-20T09:57:07', 'languages': ['eng'], 'parent_id': 'b43529a7e0379dddccf6bceadbec6a3a', 'filetype': 'text/markdown', 'file_directory': 'c:\\\\Users\\\\juhyunlee\\\\workspace\\\\notebooks\\\\doc-facts-and-summary-extraction\\\\markdown', 'filename': 'Meta-Reports-First-Quarter-2024-Results-2024.md', 'category': 'NarrativeText'}), Document(page_content=\"Foreign exchange effect on revenue. We translated revenue for the three months ended March 31, 2024 using the prior year's monthly exchange rates for our settlement or billing currencies other than the U.S. dollar, which we believe is a useful metric that facilitates comparison to our historical performance.\", metadata={'source': 'c:\\\\Users\\\\juhyunlee\\\\workspace\\\\notebooks\\\\doc-facts-and-summary-extraction\\\\markdown\\\\Meta-Reports-First-Quarter-2024-Results-2024.md', 'last_modified': '2024-05-20T09:57:07', 'languages': ['eng'], 'parent_id': 'b43529a7e0379dddccf6bceadbec6a3a', 'filetype': 'text/markdown', 'file_directory': 'c:\\\\Users\\\\juhyunlee\\\\workspace\\\\notebooks\\\\doc-facts-and-summary-extraction\\\\markdown', 'filename': 'Meta-Reports-First-Quarter-2024-Results-2024.md', 'category': 'NarrativeText'}), Document(page_content='Purchases of property and equipment; Principal payments on finance leases. We subtract both purchases of property and equipment, net of proceeds and principal payments on finance leases in our calculation of free cash flow because we believe that these two items collectively represent the amount of property and equipment we need to procure to support our business, regardless of whether we procure such property or equipment with a finance lease. We believe that this methodology can provide useful supplemental information to help investors better understand underlying trends in our business. Free cash flow is not intended to represent our residual cash flow available for discretionary expenditures.', metadata={'source': 'c:\\\\Users\\\\juhyunlee\\\\workspace\\\\notebooks\\\\doc-facts-and-summary-extraction\\\\markdown\\\\Meta-Reports-First-Quarter-2024-Results-2024.md', 'last_modified': '2024-05-20T09:57:07', 'languages': ['eng'], 'parent_id': 'b43529a7e0379dddccf6bceadbec6a3a', 'filetype': 'text/markdown', 'file_directory': 'c:\\\\Users\\\\juhyunlee\\\\workspace\\\\notebooks\\\\doc-facts-and-summary-extraction\\\\markdown', 'filename': 'Meta-Reports-First-Quarter-2024-Results-2024.md', 'category': 'NarrativeText'}), Document(page_content='For more information on our non-GAAP financial measures and a reconciliation of GAAP to non-GAAP measures, please see the \"Reconciliation of GAAP to Non-GAAP Results\" table in this press release.', metadata={'source': 'c:\\\\Users\\\\juhyunlee\\\\workspace\\\\notebooks\\\\doc-facts-and-summary-extraction\\\\markdown\\\\Meta-Reports-First-Quarter-2024-Results-2024.md', 'last_modified': '2024-05-20T09:57:07', 'languages': ['eng'], 'parent_id': 'b43529a7e0379dddccf6bceadbec6a3a', 'filetype': 'text/markdown', 'file_directory': 'c:\\\\Users\\\\juhyunlee\\\\workspace\\\\notebooks\\\\doc-facts-and-summary-extraction\\\\markdown', 'filename': 'Meta-Reports-First-Quarter-2024-Results-2024.md', 'category': 'NarrativeText'}), Document(page_content='META PLATFORMS, INC. CONDENSED CONSOLIDATED STATEMENTS OF INCOME (In millions, except per share amounts) (Unaudited)', metadata={'source': 'c:\\\\Users\\\\juhyunlee\\\\workspace\\\\notebooks\\\\doc-facts-and-summary-extraction\\\\markdown\\\\Meta-Reports-First-Quarter-2024-Results-2024.md', 'last_modified': '2024-05-20T09:57:07', 'languages': ['eng'], 'parent_id': 'b43529a7e0379dddccf6bceadbec6a3a', 'filetype': 'text/markdown', 'file_directory': 'c:\\\\Users\\\\juhyunlee\\\\workspace\\\\notebooks\\\\doc-facts-and-summary-extraction\\\\markdown', 'filename': 'Meta-Reports-First-Quarter-2024-Results-2024.md', 'category': 'UncategorizedText'}), Document(page_content='| | Three Months Ended March 31, ||\\n|| 2024 | 2023 |\\n| - | - | - |\\n| Revenue | $ 36,455 | $ 28,645 |\\n| Costs and expenses: | | |\\n| Cost of revenue | 6,640 | 6,108 |\\n| Research and development | 9,978 | 9,381 |\\n| Marketing and sales | 2,564 | 3,044 |\\n| General and administrative | 3,455 | 2,885 |\\n| Total costs and expenses | 22,637 | 21,418 |\\n| Income from operations | 13,818 | 7,227 |\\n| Interest and other income, net | 365 | 80 |\\n| Income before provision for income taxes | 14,183 | 7,307 |\\n| Provision for income taxes | 1,814 | 1,598 |\\n| Net income | $ 12,369 | $ 5,709 |\\n| Earnings per share: | | |\\n| Basic | $ 4.86 | $ 2.21 |\\n| Diluted | $ 4.71 | $ 2.20 5 |', metadata={'source': 'c:\\\\Users\\\\juhyunlee\\\\workspace\\\\notebooks\\\\doc-facts-and-summary-extraction\\\\markdown\\\\Meta-Reports-First-Quarter-2024-Results-2024.md', 'last_modified': '2024-05-20T09:57:07', 'languages': ['eng'], 'parent_id': 'b43529a7e0379dddccf6bceadbec6a3a', 'filetype': 'text/markdown', 'file_directory': 'c:\\\\Users\\\\juhyunlee\\\\workspace\\\\notebooks\\\\doc-facts-and-summary-extraction\\\\markdown', 'filename': 'Meta-Reports-First-Quarter-2024-Results-2024.md', 'category': 'NarrativeText'}), Document(page_content='Weighted-average shares used to compute earnings per share:\" -->', metadata={'source': 'c:\\\\Users\\\\juhyunlee\\\\workspace\\\\notebooks\\\\doc-facts-and-summary-extraction\\\\markdown\\\\Meta-Reports-First-Quarter-2024-Results-2024.md', 'last_modified': '2024-05-20T09:57:07', 'text_as_html': '<table><tr><td></td><td></td><td></td></tr><tr><td>Weighted-average shares used to compute earnings per share:&quot; --&gt;</td><td></td><td></td></tr></table>', 'languages': ['eng'], 'parent_id': 'b43529a7e0379dddccf6bceadbec6a3a', 'filetype': 'text/markdown', 'file_directory': 'c:\\\\Users\\\\juhyunlee\\\\workspace\\\\notebooks\\\\doc-facts-and-summary-extraction\\\\markdown', 'filename': 'Meta-Reports-First-Quarter-2024-Results-2024.md', 'category': 'Table'}), Document(page_content='META PLATFORMS, INC. CONDENSED CONSOLIDATED BALANCE SHEETS (In millions) (Unaudited)', metadata={'source': 'c:\\\\Users\\\\juhyunlee\\\\workspace\\\\notebooks\\\\doc-facts-and-summary-extraction\\\\markdown\\\\Meta-Reports-First-Quarter-2024-Results-2024.md', 'last_modified': '2024-05-20T09:57:07', 'languages': ['eng'], 'filetype': 'text/markdown', 'file_directory': 'c:\\\\Users\\\\juhyunlee\\\\workspace\\\\notebooks\\\\doc-facts-and-summary-extraction\\\\markdown', 'filename': 'Meta-Reports-First-Quarter-2024-Results-2024.md', 'category': 'Title'}), Document(page_content=\"March 31, 2024 December 31, 2023 Assets Current assets: Cash and cash equivalents $ 32,307 $ 41,862 Marketable securities 25,813 23,541 Accounts receivable, net 13,430 16,169 Prepaid expenses and other current assets 3,780 3,793 Total current assets 75,330 85,365 Non-marketable equity securities 6,218 6,141 Property and equipment, net 98,908 96,587 Operating lease right-of-use assets :unselected: 13,555 13,294 Goodwill :unselected: 20,654 20,654 Other assets :unselected: 8,179 7,582 Total assets $ 222,844 $ 229,623 Liabilities and stockholders' equity :unselected: Current liabilities: :unselected: Accounts payable $ 3,785 $ 4,849 Operating lease liabilities, current :unselected: 1,676 1,623 Accrued expenses and other current liabilities :unselected: 22,640 25,488 Total current liabilities :unselected: 28,101 31,960 Operating lease liabilities, non-current :unselected: 17,570 17,226 Long-term debt :unselected: 18,387 18,385 Long-term income taxes :unselected: 7,795 7,514 Other liabilities :unselected: 1,462 1,370 Total liabilities :unselected: 73,315 76,455 Commitments and contingencies Stockholders' equity: :unselected: :unselected:  Common stock and additional paid-in capital :unselected: 75,391 73,253 Accumulated other comprehensive loss (2,655) (2,155) Retained earnings 76,793 82,070 Total stockholders' equity 149,529 153,168 Total liabilities and stockholders' equity $ 222,844 $ 229,623\", metadata={'source': 'c:\\\\Users\\\\juhyunlee\\\\workspace\\\\notebooks\\\\doc-facts-and-summary-extraction\\\\markdown\\\\Meta-Reports-First-Quarter-2024-Results-2024.md', 'last_modified': '2024-05-20T09:57:07', 'text_as_html': '<table><tr><td></td><td>March 31, 2024</td><td>December 31, 2023</td></tr><tr><td>Assets</td><td></td><td></td></tr><tr><td>Current assets:</td><td></td><td></td></tr><tr><td>Cash and cash equivalents</td><td>$ 32,307</td><td>$ 41,862</td></tr><tr><td>Marketable securities</td><td>25,813</td><td>23,541</td></tr><tr><td>Accounts receivable, net</td><td>13,430</td><td>16,169</td></tr><tr><td>Prepaid expenses and other current assets</td><td>3,780</td><td>3,793</td></tr><tr><td>Total current assets</td><td>75,330</td><td>85,365</td></tr><tr><td>Non-marketable equity securities</td><td>6,218</td><td>6,141</td></tr><tr><td>Property and equipment, net</td><td>98,908</td><td>96,587</td></tr><tr><td>Operating lease right-of-use assets :unselected:</td><td>13,555</td><td>13,294</td></tr><tr><td>Goodwill :unselected:</td><td>20,654</td><td>20,654</td></tr><tr><td>Other assets :unselected:</td><td>8,179</td><td>7,582</td></tr><tr><td>Total assets</td><td>$ 222,844</td><td>$ 229,623</td></tr><tr><td>Liabilities and stockholders&#x27; equity :unselected:</td><td></td><td></td></tr><tr><td>Current liabilities: :unselected:</td><td></td><td></td></tr><tr><td>Accounts payable</td><td>$ 3,785</td><td>$ 4,849</td></tr><tr><td>Operating lease liabilities, current :unselected:</td><td>1,676</td><td>1,623</td></tr><tr><td>Accrued expenses and other current liabilities :unselected:</td><td>22,640</td><td>25,488</td></tr><tr><td>Total current liabilities :unselected:</td><td>28,101</td><td>31,960</td></tr><tr><td>Operating lease liabilities, non-current :unselected:</td><td>17,570</td><td>17,226</td></tr><tr><td>Long-term debt :unselected:</td><td>18,387</td><td>18,385</td></tr><tr><td>Long-term income taxes :unselected:</td><td>7,795</td><td>7,514</td></tr><tr><td>Other liabilities :unselected:</td><td>1,462</td><td>1,370</td></tr><tr><td>Total liabilities :unselected:</td><td>73,315</td><td>76,455</td></tr><tr><td>Commitments and contingencies Stockholders&#x27; equity: :unselected: :unselected:</td><td></td><td></td></tr><tr><td></td><td></td><td></td></tr><tr><td>Common stock and additional paid-in capital :unselected:</td><td>75,391</td><td>73,253</td></tr><tr><td>Accumulated other comprehensive loss</td><td>(2,655)</td><td>(2,155)</td></tr><tr><td>Retained earnings</td><td>76,793</td><td>82,070</td></tr><tr><td>Total stockholders&#x27; equity</td><td>149,529</td><td>153,168</td></tr><tr><td>Total liabilities and stockholders&#x27; equity</td><td>$ 222,844</td><td>$ 229,623</td></tr></table>', 'languages': ['eng'], 'parent_id': 'c50a86ca9f97f1d00c995250055eb207', 'filetype': 'text/markdown', 'file_directory': 'c:\\\\Users\\\\juhyunlee\\\\workspace\\\\notebooks\\\\doc-facts-and-summary-extraction\\\\markdown', 'filename': 'Meta-Reports-First-Quarter-2024-Results-2024.md', 'category': 'Table'}), Document(page_content='Basic | 2,545 | 2,587 |\\n| Diluted | 2,625 | 2,596 |', metadata={'source': 'c:\\\\Users\\\\juhyunlee\\\\workspace\\\\notebooks\\\\doc-facts-and-summary-extraction\\\\markdown\\\\Meta-Reports-First-Quarter-2024-Results-2024.md', 'last_modified': '2024-05-20T09:57:07', 'languages': ['eng'], 'parent_id': 'c50a86ca9f97f1d00c995250055eb207', 'filetype': 'text/markdown', 'file_directory': 'c:\\\\Users\\\\juhyunlee\\\\workspace\\\\notebooks\\\\doc-facts-and-summary-extraction\\\\markdown', 'filename': 'Meta-Reports-First-Quarter-2024-Results-2024.md', 'category': 'UncategorizedText'}), Document(page_content='META PLATFORMS, INC. CONDENSED CONSOLIDATED STATEMENTS OF CASH FLOWS (In millions) (Unaudited)', metadata={'source': 'c:\\\\Users\\\\juhyunlee\\\\workspace\\\\notebooks\\\\doc-facts-and-summary-extraction\\\\markdown\\\\Meta-Reports-First-Quarter-2024-Results-2024.md', 'last_modified': '2024-05-20T09:57:07', 'languages': ['eng'], 'filetype': 'text/markdown', 'file_directory': 'c:\\\\Users\\\\juhyunlee\\\\workspace\\\\notebooks\\\\doc-facts-and-summary-extraction\\\\markdown', 'filename': 'Meta-Reports-First-Quarter-2024-Results-2024.md', 'category': 'Title'}), Document(page_content='| | Three Months Ended March 31, ||\\n|| 2024 | 2023 |\\n| - | - | - |\\n| Cash flows from operating activities | | |\\n| Net income | $ 12,369 | $ 5,709 |\\n| Adjustments to reconcile net income to net cash provided by operating activities: | | |\\n| Depreciation and amortization | 3,374 | 2,524 |\\n| Share-based compensation | 3,562 | 3,051 |\\n| Deferred income taxes | (456) | (620) |\\n| Impairment charges for facilities consolidation, net | 240 | 770 |\\n| Other | (66) | (7) |\\n| Changes in assets and liabilities: | | |\\n| Accounts receivable | 2,520 | 2,546 |\\n| Prepaid expenses and other current assets | 100 | 821 |\\n| Other assets | (94) | 30 |\\n| Accounts payable | (1,112) | (1,104) |\\n| Accrued expenses and other current liabilities | (1,274) | 94 |\\n| Other liabilities | 83 | 184 |\\n| Net cash provided by operating activities | 19,246 | 13,998 |\\n| Cash flows from investing activities | | |\\n| Purchases of property and equipment, net | (6,400) | (6,823) |\\n| Purchases of marketable debt securities | (6,887) | (85) |\\n| Sales and maturities of marketable debt securities | 4,625 | 534 |\\n| Acquisitions of businesses and intangible assets | (72) | (444) |\\n| Other investing activities | | 75 |\\n| Net cash used in investing activities | (8,734) | (6,743) |\\n| Cash flows from financing activities | | |\\n| Taxes paid related to net share settlement of equity awards | (3,162) | (1,009) |\\n| Repurchases of Class A common stock | (15,008) | (9,365) |\\n| Dividends payments | (1,273) | - |\\n| Principal payments on finance leases | (315) | (264) |\\n| Other financing activities | (9) | 122 |\\n| Net cash used in financing activities | (19,767) | (10,516) |\\n| Effect of exchange rate changes on cash, cash equivalents, and restricted cash | (288) | 85 |\\n| Net decrease in cash, cash equivalents, and restricted cash | (9,543) | (3,176) |\\n| Cash, cash equivalents, and restricted cash at beginning of the period | 42,827 | 15,596 |\\n| Cash, cash equivalents, and restricted cash at end of the period | $ 33,284 | $ 12,420 |\\n| Reconciliation of cash, cash equivalents, and restricted cash to the condensed consolidated balance sheets |||\\n| Cash and cash equivalents | $ 32,307 | $ 11,551 |\\n| Restricted cash, included in prepaid expenses and other current assets | 84 | 224 |\\n| Restricted cash, included in other assets | 893 | 645 |\\n| Total cash, cash equivalents, and restricted cash | $ 33,284 | $ 12,420 |', metadata={'source': 'c:\\\\Users\\\\juhyunlee\\\\workspace\\\\notebooks\\\\doc-facts-and-summary-extraction\\\\markdown\\\\Meta-Reports-First-Quarter-2024-Results-2024.md', 'last_modified': '2024-05-20T09:57:07', 'languages': ['eng'], 'parent_id': 'efd2ac0a04212b9d2c0f32a8f519e6ee', 'filetype': 'text/markdown', 'file_directory': 'c:\\\\Users\\\\juhyunlee\\\\workspace\\\\notebooks\\\\doc-facts-and-summary-extraction\\\\markdown', 'filename': 'Meta-Reports-First-Quarter-2024-Results-2024.md', 'category': 'NarrativeText'}), Document(page_content='META PLATFORMS, INC. CONDENSED CONSOLIDATED STATEMENTS OF CASH FLOWS (In millions) (Unaudited)', metadata={'source': 'c:\\\\Users\\\\juhyunlee\\\\workspace\\\\notebooks\\\\doc-facts-and-summary-extraction\\\\markdown\\\\Meta-Reports-First-Quarter-2024-Results-2024.md', 'last_modified': '2024-05-20T09:57:07', 'languages': ['eng'], 'filetype': 'text/markdown', 'file_directory': 'c:\\\\Users\\\\juhyunlee\\\\workspace\\\\notebooks\\\\doc-facts-and-summary-extraction\\\\markdown', 'filename': 'Meta-Reports-First-Quarter-2024-Results-2024.md', 'category': 'Title'}), Document(page_content='| | Three Months Ended March 31, ||\\n|| 2024 | 2023 |\\n| - | - | - |\\n| Supplemental cash flow data | | |\\n| Cash paid for income taxes, net | $ 630 | $ 405 |\\n| Cash paid for interest, net of amounts capitalized | $ 121 | $ 182 |\\n| Non-cash investing and financing activities: | | |\\n| Property and equipment in accounts payable and accrued expenses and other current liabilities | $ 4,217 | $ 4,466 |\\n| Acquisition of businesses in accrued expenses and other current liabilities and other liabilities | $ 116 | $ 263 |', metadata={'source': 'c:\\\\Users\\\\juhyunlee\\\\workspace\\\\notebooks\\\\doc-facts-and-summary-extraction\\\\markdown\\\\Meta-Reports-First-Quarter-2024-Results-2024.md', 'last_modified': '2024-05-20T09:57:07', 'languages': ['eng'], 'parent_id': 'bf5d0e9122cd285ed3dbb4adb6f24992', 'filetype': 'text/markdown', 'file_directory': 'c:\\\\Users\\\\juhyunlee\\\\workspace\\\\notebooks\\\\doc-facts-and-summary-extraction\\\\markdown', 'filename': 'Meta-Reports-First-Quarter-2024-Results-2024.md', 'category': 'NarrativeText'}), Document(page_content='Segment Results', metadata={'source': 'c:\\\\Users\\\\juhyunlee\\\\workspace\\\\notebooks\\\\doc-facts-and-summary-extraction\\\\markdown\\\\Meta-Reports-First-Quarter-2024-Results-2024.md', 'last_modified': '2024-05-20T09:57:07', 'languages': ['eng'], 'filetype': 'text/markdown', 'file_directory': 'c:\\\\Users\\\\juhyunlee\\\\workspace\\\\notebooks\\\\doc-facts-and-summary-extraction\\\\markdown', 'filename': 'Meta-Reports-First-Quarter-2024-Results-2024.md', 'category': 'Title'}), Document(page_content='We report our financial results for our two reportable segments: Family of Apps (FoA) and Reality Labs (RL). FoA includes Facebook, Instagram, Messenger, WhatsApp, and other services. RL includes our virtual, augmented, and mixed reality related consumer hardware, software, and content.', metadata={'source': 'c:\\\\Users\\\\juhyunlee\\\\workspace\\\\notebooks\\\\doc-facts-and-summary-extraction\\\\markdown\\\\Meta-Reports-First-Quarter-2024-Results-2024.md', 'last_modified': '2024-05-20T09:57:07', 'languages': ['eng'], 'parent_id': 'b01b864a2a0b6beba3736ec7270ceeb5', 'filetype': 'text/markdown', 'file_directory': 'c:\\\\Users\\\\juhyunlee\\\\workspace\\\\notebooks\\\\doc-facts-and-summary-extraction\\\\markdown', 'filename': 'Meta-Reports-First-Quarter-2024-Results-2024.md', 'category': 'NarrativeText'}), Document(page_content='The following table presents our segment information of revenue and income (loss) from operations:', metadata={'source': 'c:\\\\Users\\\\juhyunlee\\\\workspace\\\\notebooks\\\\doc-facts-and-summary-extraction\\\\markdown\\\\Meta-Reports-First-Quarter-2024-Results-2024.md', 'last_modified': '2024-05-20T09:57:07', 'languages': ['eng'], 'parent_id': 'b01b864a2a0b6beba3736ec7270ceeb5', 'filetype': 'text/markdown', 'file_directory': 'c:\\\\Users\\\\juhyunlee\\\\workspace\\\\notebooks\\\\doc-facts-and-summary-extraction\\\\markdown', 'filename': 'Meta-Reports-First-Quarter-2024-Results-2024.md', 'category': 'NarrativeText'}), Document(page_content='Segment Information (In millions) (Unaudited)', metadata={'source': 'c:\\\\Users\\\\juhyunlee\\\\workspace\\\\notebooks\\\\doc-facts-and-summary-extraction\\\\markdown\\\\Meta-Reports-First-Quarter-2024-Results-2024.md', 'last_modified': '2024-05-20T09:57:07', 'languages': ['eng'], 'filetype': 'text/markdown', 'file_directory': 'c:\\\\Users\\\\juhyunlee\\\\workspace\\\\notebooks\\\\doc-facts-and-summary-extraction\\\\markdown', 'filename': 'Meta-Reports-First-Quarter-2024-Results-2024.md', 'category': 'Title'}), Document(page_content='| | Three Months Ended March 31, ||\\n|| 2024 | 2023 |\\n| - | - | - |\\n| Revenue: | | |\\n| Advertising | $ 35,635 | $ 28,101 |\\n| Other revenue | 380 | 205 |\\n| Family of Apps | 36,015 | 28,306 |\\n| Reality Labs | 440 | 339 |\\n| Total revenue | $ 36,455 | $ 28,645 |\\n| Income (loss) from operations: | | |\\n| Family of Apps | $ 17,664 | $ 11,219 |\\n| Reality Labs | (3,846) | (3,992) |\\n| Total income from operations | $ 13,818 | $ 7,227 |', metadata={'source': 'c:\\\\Users\\\\juhyunlee\\\\workspace\\\\notebooks\\\\doc-facts-and-summary-extraction\\\\markdown\\\\Meta-Reports-First-Quarter-2024-Results-2024.md', 'last_modified': '2024-05-20T09:57:07', 'languages': ['eng'], 'parent_id': '5cd63267008482b6f1317f125ffc1572', 'filetype': 'text/markdown', 'file_directory': 'c:\\\\Users\\\\juhyunlee\\\\workspace\\\\notebooks\\\\doc-facts-and-summary-extraction\\\\markdown', 'filename': 'Meta-Reports-First-Quarter-2024-Results-2024.md', 'category': 'UncategorizedText'}), Document(page_content='Reconciliation of GAAP to Non-GAAP Results (In millions, except percentages) (Unaudited)', metadata={'source': 'c:\\\\Users\\\\juhyunlee\\\\workspace\\\\notebooks\\\\doc-facts-and-summary-extraction\\\\markdown\\\\Meta-Reports-First-Quarter-2024-Results-2024.md', 'last_modified': '2024-05-20T09:57:07', 'languages': ['eng'], 'filetype': 'text/markdown', 'file_directory': 'c:\\\\Users\\\\juhyunlee\\\\workspace\\\\notebooks\\\\doc-facts-and-summary-extraction\\\\markdown', 'filename': 'Meta-Reports-First-Quarter-2024-Results-2024.md', 'category': 'Title'}), Document(page_content='| | Three Months Ended March 31, ||\\n|| 2024 | 2023 |\\n| - | - | - |\\n| GAAP revenue | $ 36,455 | $ 28,645 |\\n| Foreign exchange effect on 2024 revenue using 2023 rates | (106) | |\\n| Revenue excluding foreign exchange effect | $ 36,349 | |\\n| GAAP revenue year-over-year change % | 27 % | |\\n| Revenue excluding foreign exchange effect year-over-year change % | 27 % | |\\n| GAAP advertising revenue | $ 35,635 | $ 28,101 |\\n| Foreign exchange effect on 2024 advertising revenue using 2023 rates | (105) | |\\n| Advertising revenue excluding foreign exchange effect | $ 35,530 | |\\n| GAAP advertising revenue year-over-year change % | 27 % | |\\n| Advertising revenue excluding foreign exchange effect year-over-year change % | 26 % | |\\n| Net cash provided by operating activities | $ 19,246 | $ 13,998 |\\n| Purchases of property and equipment, net | (6,400) | (6,823) |\\n| Principal payments on finance leases | (315) | (264) |\\n| Free cash flow | $ 12,531 | $ 6,911 |', metadata={'source': 'c:\\\\Users\\\\juhyunlee\\\\workspace\\\\notebooks\\\\doc-facts-and-summary-extraction\\\\markdown\\\\Meta-Reports-First-Quarter-2024-Results-2024.md', 'last_modified': '2024-05-20T09:57:07', 'languages': ['eng'], 'parent_id': 'd67d285b16e6ffc4057241ec8e45ace9', 'filetype': 'text/markdown', 'file_directory': 'c:\\\\Users\\\\juhyunlee\\\\workspace\\\\notebooks\\\\doc-facts-and-summary-extraction\\\\markdown', 'filename': 'Meta-Reports-First-Quarter-2024-Results-2024.md', 'category': 'NarrativeText'}), Document(page_content='View original content to download multimedia:https://www.prnewswire.com/news-releases/meta-reports-first- quarter-2024-results-302126633.html', metadata={'source': 'c:\\\\Users\\\\juhyunlee\\\\workspace\\\\notebooks\\\\doc-facts-and-summary-extraction\\\\markdown\\\\Meta-Reports-First-Quarter-2024-Results-2024.md', 'last_modified': '2024-05-20T09:57:07', 'languages': ['eng'], 'parent_id': 'd67d285b16e6ffc4057241ec8e45ace9', 'filetype': 'text/markdown', 'file_directory': 'c:\\\\Users\\\\juhyunlee\\\\workspace\\\\notebooks\\\\doc-facts-and-summary-extraction\\\\markdown', 'filename': 'Meta-Reports-First-Quarter-2024-Results-2024.md', 'category': 'NarrativeText'}), Document(page_content='SOURCE Meta', metadata={'source': 'c:\\\\Users\\\\juhyunlee\\\\workspace\\\\notebooks\\\\doc-facts-and-summary-extraction\\\\markdown\\\\Meta-Reports-First-Quarter-2024-Results-2024.md', 'last_modified': '2024-05-20T09:57:07', 'languages': ['eng'], 'filetype': 'text/markdown', 'file_directory': 'c:\\\\Users\\\\juhyunlee\\\\workspace\\\\notebooks\\\\doc-facts-and-summary-extraction\\\\markdown', 'filename': 'Meta-Reports-First-Quarter-2024-Results-2024.md', 'category': 'Title'})]\n"
          ]
        }
      ],
      "source": [
        "# loading the markdown file\n",
        "from langchain_community.document_loaders import UnstructuredMarkdownLoader\n",
        "\n",
        "md_file_name = target_file_name.replace(\".pdf\", \".md\")\n",
        "md_file_path = os.path.join(os.path.dirname(os.path.abspath(\"__file__\")), \"markdown\", md_file_name)\n",
        "print(md_file_path)\n",
        "loader = UnstructuredMarkdownLoader(md_file_path, mode=\"elements\")\n",
        "data = loader.load()\n",
        "print(data)\n"
      ]
    },
    {
      "cell_type": "markdown",
      "metadata": {},
      "source": [
        "### Chunking the File into Markdown Headers"
      ]
    },
    {
      "cell_type": "code",
      "execution_count": 46,
      "metadata": {},
      "outputs": [
        {
          "name": "stdout",
          "output_type": "stream",
          "text": [
            "[Document(page_content='FACEBOOK\\n==='), Document(page_content='## Meta Reports First Quarter 2024 Results  \\nMENLO PARK, Calif., April 24, 2024 /PRNewswire/ -- Meta Platforms, Inc. (Nasdaq: META) today reported financial results for the quarter ended March 31, 2024.  \\n\"It\\'s been a good start to the year,\" said Mark Zuckerberg, Meta founder and CEO. \"The new version of Meta Al with Llama 3 is another step towards building the world\\'s leading Al. We\\'re seeing healthy growth across our apps and we continue making steady progress building the metaverse as well.\"', metadata={'Header 2': 'Meta Reports First Quarter 2024 Results'}), Document(page_content='### First Quarter 2024 Financial Highlights  \\n| In millions, except percentages and per share amounts | Three Months Ended March 31, || % Change |\\n|| 2024 | 2023 ||\\n| - | - | - | - |\\n| Revenue | $ 36,455 | $ 28,645 | 27 % |\\n| Costs and expenses | 22,637 | 21,418 | 6 % |\\n| Income from operations | $ 13,818 | $ 7,227 | 91 % |\\n| Operating margin | 38 % | 25 % | |\\n| Provision for income taxes | $ 1,814 | $ 1,598 | 14 % |\\n| Effective tax rate | 13 % | 22 % | |\\n| Net income | $ 12,369 | $ 5,709 | 117 % |\\n| Diluted earnings per share (EPS) | $ 4.71 | $ 2.20 | 114 % |', metadata={'Header 2': 'Meta Reports First Quarter 2024 Results', 'Header 3': 'First Quarter 2024 Financial Highlights'}), Document(page_content='## First Quarter 2024 Operational and Other Financial Highlights  \\n. Family daily active people (DAP) - DAP was 3.24 billion on average for March 2024, an increase of 7% year- over-year.  \\n. Ad impressions - Ad impressions delivered across our Family of Apps increased by 20% year-over-year.  \\nÂ· Average price per ad - Average price per ad increased by 6% year-over-year.  \\n. Revenue - Total revenue and revenue on a constant currency basis were $36.46 billion and $36.35 billion,  \\n<!-- PageNumber=\"1\" -->  \\n<!-- PageNumber=\"\\\\+\" -->  \\nrespectively, both of which increased by 27% year-over-year.  \\n. Costs and expenses - Total costs and expenses were $22.64 billion, an increase of 6% year-over-year.  \\nÂ· Capital expenditures - Capital expenditures, including principal payments on finance leases, were $6.72 billion.  \\nÂ· Capital return program - Share repurchases were $14.64 billion of our Class A common stock and dividends payments were $1.27 billion.  \\nÂ· Cash, cash equivalents, and marketable securities - Cash, cash equivalents, and marketable securities were $58.12 billion as of March 31, 2024. Free cash flow was $12.53 billion.  \\n. Headcount - Headcount was 69,329 as of March 31, 2024, a decrease of 10% year-over-year.', metadata={'Header 2': 'First Quarter 2024 Operational and Other Financial Highlights'}), Document(page_content='### CFO Outlook Commentary  \\nWe expect second quarter 2024 total revenue to be in the range of $36.5-39 billion. Our guidance assumes foreign currency is a 1% headwind to year-over-year total revenue growth, based on current exchange rates.  \\nWe expect full-year 2024 total expenses to be in the range of $96-99 billion, updated from our prior outlook of $94- 99 billion due to higher infrastructure and legal costs. For Reality Labs, we continue to expect operating losses to increase meaningfully year-over-year due to our ongoing product development efforts and our investments to further scale our ecosystem.  \\nWe anticipate our full-year 2024 capital expenditures will be in the range of $35-40 billion, increased from our prior range of $30-37 billion as we continue to accelerate our infrastructure investments to support our artificial intelligence (Al) roadmap. While we are not providing guidance for years beyond 2024, we expect capital expenditures will continue to increase next year as we invest aggressively to support our ambitious Al research and product development efforts.  \\nAbsent any changes to our tax landscape, we expect our full-year 2024 tax rate to be in the mid-teens.  \\nIn addition, we continue to monitor an active regulatory landscape, including the increasing legal and regulatory headwinds in the EU and the U.S. that could significantly impact our business and our financial results.  \\nQ1 was a good start to the year. We\\'re seeing strong momentum within our Family of Apps and are making important progress on our longer-term Al and Reality Labs initiatives that have the potential to transform the way people interact with our services over the coming years.  \\n<!-- PageFooter=\"Webcast and Conference Call Information\" -->  \\n<!-- PageNumber=\"2\" -->  \\nMeta will host a conference call to discuss the results at 2:00 p.m. PT / 5:00 p.m. ET today. The live webcast of Meta\\'s earnings conference call can be accessed at investor.fb.com, along with the earnings press release, financial tables, and slide presentation. Meta uses the investor.fb.com and about.fb.com/news/ websites as well as Mark Zuckerberg\\'s Facebook Page (facebook.com/zuck), Instagram account (instagram.com/zuck) and Threads profile (threads.net/zuck) as means of disclosing material non-public information and for complying with its disclosure obligations under Regulation FD.  \\nFollowing the call, a replay will be available at the same website. Transcripts of conference calls with publishing equity research analysts held today will also be posted to the investor.fb.com website.', metadata={'Header 2': 'First Quarter 2024 Operational and Other Financial Highlights', 'Header 3': 'CFO Outlook Commentary'}), Document(page_content='## About Meta  \\nMeta builds technologies that help people connect, find communities, and grow businesses. When Facebook launched in 2004, it changed the way people connect. Apps like Messenger, Instagram, and WhatsApp further empowered billions around the world. Now, Meta is moving beyond 2D screens toward immersive experiences like augmented and virtual reality to help build the next evolution in social technology.  \\nContacts  \\nInvestors: Kenneth Dorell investor@meta.com / investor.fb.com  \\nPress: Ryan Moore  \\npress@meta.com / about.fb.com/news/', metadata={'Header 2': 'About Meta'}), Document(page_content='## Forward-Looking Statements  \\nThis press release contains forward-looking statements regarding our future business plans and expectations. These forward-looking statements are only predictions and may differ materially from actual results due to a variety of factors including: the impact of macroeconomic conditions on our business and financial results, including as a result of geopolitical events; our ability to retain or increase users and engagement levels; our reliance on  \\n<!-- PageNumber=\"3\" -->  \\n<!-- PageNumber=\"\\\\+\" -->  \\nadvertising revenue; our dependency on data signals and mobile operating systems, networks, and standards that we do not control; changes to the content or application of third-party policies that impact our advertising practices; risks associated with new products and changes to existing products as well as other new business initiatives, including our artificial intelligence initiatives and metaverse efforts; our emphasis on community growth and engagement and the user experience over short-term financial results; maintaining and enhancing our brand and reputation; our ongoing privacy, safety, security, and content review efforts; competition; risks associated with government actions that could restrict access to our products or impair our ability to sell advertising in certain countries; litigation and government inquiries; privacy, legislative, and regulatory concerns or developments; risks associated with acquisitions; security breaches; our ability to manage our scale and geographically-dispersed operations; and market conditions or other factors affecting the payment of dividends. These and other potential risks and uncertainties that could cause actual results to differ from the results predicted are more fully detailed under the caption \"Risk Factors\" in our Annual Report on Form 10-K filed with the SEC on February 2, 2024, which is available on our Investor Relations website at investor.fb.com and on the SEC website at www.sec.gov. Additional information will also be set forth in our Quarterly Report on Form 10-Q for the quarter ended March 31, 2024. In addition, please note that the date of this press release is April 24, 2024, and any forward-looking statements contained herein are based on assumptions that we believe to be reasonable as of this date. We undertake no obligation to update these statements as a result of new information or future events.  \\nFor a discussion of limitations in the measurement of certain of our community metrics, see the section entitled \"Limitations of Key Metrics and Other Data\" in our most recent quarterly or annual report filed with the SEC.', metadata={'Header 2': 'Forward-Looking Statements'}), Document(page_content='## Non-GAAP Financial Measures  \\nTo supplement our condensed consolidated financial statements, which are prepared and presented in accordance with generally accepted accounting principles in the United States (GAAP), we use the following non-GAAP financial measures: revenue excluding foreign exchange effect, advertising revenue excluding foreign exchange effect, and free cash flow. The presentation of these financial measures is not intended to be considered in isolation or as a substitute for, or superior to, financial information prepared and presented in accordance with GAAP. Investors are cautioned that there are material limitations associated with the use of non-GAAP financial measures as an analytical tool. In addition, these measures may be different from non-GAAP financial measures used by other companies, limiting their usefulness for comparison purposes. We compensate for these limitations by providing specific information regarding the GAAP amounts excluded from these non-GAAP financial measures.  \\nWe believe these non-GAAP financial measures provide investors with useful supplemental information about the financial performance of our business, enable comparison of financial results between periods where certain items may vary independent of business performance, and allow for greater transparency with respect to key metrics used by management in operating our business.  \\n<!-- PageNumber=\"4\" -->  \\n<!-- PageHeader=\"Our non-GAAP financial measures are adjusted for the following items:\" -->  \\nForeign exchange effect on revenue. We translated revenue for the three months ended March 31, 2024 using the prior year\\'s monthly exchange rates for our settlement or billing currencies other than the U.S. dollar, which we believe is a useful metric that facilitates comparison to our historical performance.  \\nPurchases of property and equipment; Principal payments on finance leases. We subtract both purchases of property and equipment, net of proceeds and principal payments on finance leases in our calculation of free cash flow because we believe that these two items collectively represent the amount of property and equipment we need to procure to support our business, regardless of whether we procure such property or equipment with a finance lease. We believe that this methodology can provide useful supplemental information to help investors better understand underlying trends in our business. Free cash flow is not intended to represent our residual cash flow available for discretionary expenditures.  \\nFor more information on our non-GAAP financial measures and a reconciliation of GAAP to non-GAAP measures, please see the \"Reconciliation of GAAP to Non-GAAP Results\" table in this press release.  \\nMETA PLATFORMS, INC. CONDENSED CONSOLIDATED STATEMENTS OF INCOME (In millions, except per share amounts) (Unaudited)  \\n| | Three Months Ended March 31, ||\\n|| 2024 | 2023 |\\n| - | - | - |\\n| Revenue | $ 36,455 | $ 28,645 |\\n| Costs and expenses: | | |\\n| Cost of revenue | 6,640 | 6,108 |\\n| Research and development | 9,978 | 9,381 |\\n| Marketing and sales | 2,564 | 3,044 |\\n| General and administrative | 3,455 | 2,885 |\\n| Total costs and expenses | 22,637 | 21,418 |\\n| Income from operations | 13,818 | 7,227 |\\n| Interest and other income, net | 365 | 80 |\\n| Income before provision for income taxes | 14,183 | 7,307 |\\n| Provision for income taxes | 1,814 | 1,598 |\\n| Net income | $ 12,369 | $ 5,709 |\\n| Earnings per share: | | |\\n| Basic | $ 4.86 | $ 2.21 |\\n| Diluted | $ 4.71 | $ 2.20 5 |  \\n||||\\n| - | - | - |\\n| Weighted-average shares used to compute earnings per share:\" -->  \\nMETA PLATFORMS, INC. CONDENSED CONSOLIDATED BALANCE SHEETS (In millions) (Unaudited)  \\n| | March 31, 2024 | December 31, 2023 |\\n| - | - | - |\\n| Assets | | |\\n| Current assets: | | |\\n| Cash and cash equivalents | $ 32,307 | $ 41,862 |\\n| Marketable securities | 25,813 | 23,541 |\\n| Accounts receivable, net | 13,430 | 16,169 |\\n| Prepaid expenses and other current assets | 3,780 | 3,793 |\\n| Total current assets | 75,330 | 85,365 |\\n| Non-marketable equity securities | 6,218 | 6,141 |\\n| Property and equipment, net | 98,908 | 96,587 |\\n| Operating lease right-of-use assets :unselected: | 13,555 | 13,294 |\\n| Goodwill :unselected: | 20,654 | 20,654 |\\n| Other assets :unselected: | 8,179 | 7,582 |\\n| Total assets | $ 222,844 | $ 229,623 |\\n| Liabilities and stockholders\\' equity :unselected: | | |\\n| Current liabilities: :unselected: | | |\\n| Accounts payable | $ 3,785 | $ 4,849 |\\n| Operating lease liabilities, current :unselected: | 1,676 | 1,623 |\\n| Accrued expenses and other current liabilities :unselected: | 22,640 | 25,488 |\\n| Total current liabilities :unselected: | 28,101 | 31,960 |\\n| Operating lease liabilities, non-current :unselected: | 17,570 | 17,226 |\\n| Long-term debt :unselected: | 18,387 | 18,385 |\\n| Long-term income taxes :unselected: | 7,795 | 7,514 |\\n| Other liabilities :unselected: | 1,462 | 1,370 |\\n| Total liabilities :unselected: | 73,315 | 76,455 |\\n| Commitments and contingencies Stockholders\\' equity: :unselected: :unselected:\\n|| | ||||\\n| Common stock and additional paid-in capital :unselected: | 75,391 | 73,253 |\\n| Accumulated other comprehensive loss | (2,655) | (2,155) |\\n| Retained earnings | 76,793 | 82,070 |\\n| Total stockholders\\' equity | 149,529 | 153,168 |\\n| Total liabilities and stockholders\\' equity | $ 222,844 | $ 229,623 |  \\n<!-- PageNumber=\"6\" -->  \\n<!-- PageFooter=\"\\\\+\" -->\\nBasic | 2,545 | 2,587 |\\n| Diluted | 2,625 | 2,596 |  \\nMETA PLATFORMS, INC. CONDENSED CONSOLIDATED STATEMENTS OF CASH FLOWS (In millions) (Unaudited)\\n===  \\n| | Three Months Ended March 31, ||\\n|| 2024 | 2023 |\\n| - | - | - |\\n| Cash flows from operating activities | | |\\n| Net income | $ 12,369 | $ 5,709 |\\n| Adjustments to reconcile net income to net cash provided by operating activities: | | |\\n| Depreciation and amortization | 3,374 | 2,524 |\\n| Share-based compensation | 3,562 | 3,051 |\\n| Deferred income taxes | (456) | (620) |\\n| Impairment charges for facilities consolidation, net | 240 | 770 |\\n| Other | (66) | (7) |\\n| Changes in assets and liabilities: | | |\\n| Accounts receivable | 2,520 | 2,546 |\\n| Prepaid expenses and other current assets | 100 | 821 |\\n| Other assets | (94) | 30 |\\n| Accounts payable | (1,112) | (1,104) |\\n| Accrued expenses and other current liabilities | (1,274) | 94 |\\n| Other liabilities | 83 | 184 |\\n| Net cash provided by operating activities | 19,246 | 13,998 |\\n| Cash flows from investing activities | | |\\n| Purchases of property and equipment, net | (6,400) | (6,823) |\\n| Purchases of marketable debt securities | (6,887) | (85) |\\n| Sales and maturities of marketable debt securities | 4,625 | 534 |\\n| Acquisitions of businesses and intangible assets | (72) | (444) |\\n| Other investing activities | | 75 |\\n| Net cash used in investing activities | (8,734) | (6,743) |\\n| Cash flows from financing activities | | |\\n| Taxes paid related to net share settlement of equity awards | (3,162) | (1,009) |\\n| Repurchases of Class A common stock | (15,008) | (9,365) |\\n| Dividends payments | (1,273) | - |\\n| Principal payments on finance leases | (315) | (264) |\\n| Other financing activities | (9) | 122 |\\n| Net cash used in financing activities | (19,767) | (10,516) |\\n| Effect of exchange rate changes on cash, cash equivalents, and restricted cash | (288) | 85 |\\n| Net decrease in cash, cash equivalents, and restricted cash | (9,543) | (3,176) |\\n| Cash, cash equivalents, and restricted cash at beginning of the period | 42,827 | 15,596 |\\n| Cash, cash equivalents, and restricted cash at end of the period | $ 33,284 | $ 12,420 |\\n| Reconciliation of cash, cash equivalents, and restricted cash to the condensed consolidated balance sheets |||\\n| Cash and cash equivalents | $ 32,307 | $ 11,551 |\\n| Restricted cash, included in prepaid expenses and other current assets | 84 | 224 |\\n| Restricted cash, included in other assets | 893 | 645 |\\n| Total cash, cash equivalents, and restricted cash | $ 33,284 | $ 12,420 |  \\n<!-- PageNumber=\"7\" -->  \\nMETA PLATFORMS, INC. CONDENSED CONSOLIDATED STATEMENTS OF CASH FLOWS (In millions) (Unaudited)  \\n| | Three Months Ended March 31, ||\\n|| 2024 | 2023 |\\n| - | - | - |\\n| Supplemental cash flow data | | |\\n| Cash paid for income taxes, net | $ 630 | $ 405 |\\n| Cash paid for interest, net of amounts capitalized | $ 121 | $ 182 |\\n| Non-cash investing and financing activities: | | |\\n| Property and equipment in accounts payable and accrued expenses and other current liabilities | $ 4,217 | $ 4,466 |\\n| Acquisition of businesses in accrued expenses and other current liabilities and other liabilities | $ 116 | $ 263 |', metadata={'Header 2': 'Non-GAAP Financial Measures'}), Document(page_content='## Segment Results  \\nWe report our financial results for our two reportable segments: Family of Apps (FoA) and Reality Labs (RL). FoA includes Facebook, Instagram, Messenger, WhatsApp, and other services. RL includes our virtual, augmented, and mixed reality related consumer hardware, software, and content.  \\nThe following table presents our segment information of revenue and income (loss) from operations:  \\nSegment Information (In millions) (Unaudited)  \\n| | Three Months Ended March 31, ||\\n|| 2024 | 2023 |\\n| - | - | - |\\n| Revenue: | | |\\n| Advertising | $ 35,635 | $ 28,101 |\\n| Other revenue | 380 | 205 |\\n| Family of Apps | 36,015 | 28,306 |\\n| Reality Labs | 440 | 339 |\\n| Total revenue | $ 36,455 | $ 28,645 |\\n| Income (loss) from operations: | | |\\n| Family of Apps | $ 17,664 | $ 11,219 |\\n| Reality Labs | (3,846) | (3,992) |\\n| Total income from operations | $ 13,818 | $ 7,227 |  \\n<!-- PageNumber=\"8\" -->  \\n<!-- PageFooter=\"\\\\+\" -->  \\nReconciliation of GAAP to Non-GAAP Results (In millions, except percentages) (Unaudited)\\n===  \\n| | Three Months Ended March 31, ||\\n|| 2024 | 2023 |\\n| - | - | - |\\n| GAAP revenue | $ 36,455 | $ 28,645 |\\n| Foreign exchange effect on 2024 revenue using 2023 rates | (106) | |\\n| Revenue excluding foreign exchange effect | $ 36,349 | |\\n| GAAP revenue year-over-year change % | 27 % | |\\n| Revenue excluding foreign exchange effect year-over-year change % | 27 % | |\\n| GAAP advertising revenue | $ 35,635 | $ 28,101 |\\n| Foreign exchange effect on 2024 advertising revenue using 2023 rates | (105) | |\\n| Advertising revenue excluding foreign exchange effect | $ 35,530 | |\\n| GAAP advertising revenue year-over-year change % | 27 % | |\\n| Advertising revenue excluding foreign exchange effect year-over-year change % | 26 % | |\\n| Net cash provided by operating activities | $ 19,246 | $ 13,998 |\\n| Purchases of property and equipment, net | (6,400) | (6,823) |\\n| Principal payments on finance leases | (315) | (264) |\\n| Free cash flow | $ 12,531 | $ 6,911 |  \\nView original content to download multimedia:https://www.prnewswire.com/news-releases/meta-reports-first- quarter-2024-results-302126633.html  \\nSOURCE Meta  \\n<!-- PageNumber=\"9\" -->', metadata={'Header 2': 'Segment Results'})]\n"
          ]
        }
      ],
      "source": [
        "from langchain_text_splitters import MarkdownHeaderTextSplitter\n",
        "\n",
        "headers_to_split_on = [\n",
        "    (\"#\", \"Header 1\"),\n",
        "    (\"##\", \"Header 2\"),\n",
        "    (\"###\", \"Header 3\"),\n",
        "]\n",
        "\n",
        "md_file_name = target_file_name.replace(\".pdf\", \".md\")\n",
        "md_file_path = os.path.join(os.path.dirname(os.path.abspath(\"__file__\")), \"markdown\", md_file_name)\n",
        "with open(md_file_path, 'r') as file:\n",
        "    md_data = file.read()\n",
        "\n",
        "markdown_splitter = MarkdownHeaderTextSplitter(\n",
        "    headers_to_split_on=headers_to_split_on, strip_headers=False\n",
        ")\n",
        "md_header_splits = markdown_splitter.split_text(md_data)\n",
        "\n",
        "print(md_header_splits)"
      ]
    },
    {
      "cell_type": "markdown",
      "metadata": {},
      "source": [
        "### Saving the chunks into json file temporarily"
      ]
    },
    {
      "cell_type": "code",
      "execution_count": 47,
      "metadata": {},
      "outputs": [
        {
          "name": "stdout",
          "output_type": "stream",
          "text": [
            "9\n"
          ]
        }
      ],
      "source": [
        "mdjson = []\n",
        "\n",
        "print(len(md_header_splits))\n",
        "\n",
        "for docs in md_header_splits:\n",
        "    mdjson_item = {\n",
        "        \"metadata\": docs.metadata,\n",
        "        \"page_content\": docs.page_content\n",
        "    }\n",
        "    mdjson.append(mdjson_item)\n",
        "\n",
        "md_file_name = target_file_name.replace(\".pdf\", \".json\")\n",
        "mdjson_file_path = os.path.join(os.path.dirname(os.path.abspath(\"__file__\")), \"json\", md_file_name)\n",
        "os.makedirs(os.path.dirname(mdjson_file_path), exist_ok=True)\n",
        "with open(mdjson_file_path, 'w') as json_file:\n",
        "    json.dump(mdjson, json_file)"
      ]
    },
    {
      "cell_type": "markdown",
      "metadata": {},
      "source": [
        "### Running the prompts to extract factual information, summaries, and insights"
      ]
    },
    {
      "cell_type": "code",
      "execution_count": 49,
      "metadata": {},
      "outputs": [],
      "source": [
        "\n",
        "# loading the mdjson file\n",
        "mdjson_file_name = target_file_name.replace(\".pdf\", \".json\")\n",
        "mdjson_file_path = os.path.join(os.path.dirname(os.path.abspath(\"__file__\")), \"json\", mdjson_file_name)\n",
        "with open(mdjson_file_path, 'r') as json_file:\n",
        "    mdjson_data = json.load(json_file)\n",
        "\n",
        "listoffacts = \"\"\n",
        "\n",
        "for mdjson_item in mdjson_data:\n",
        "\n",
        "    mdstr = mdjson_item[\"page_content\"]\n",
        "\n",
        "    prepped_systemPrompt = '''\n",
        "        You are a helpful assistant that helps extract factual information, summerize and give insights from given markdown.\n",
        "        For factual, only extract information from the given context. DO NOT make any assumptions. Extract as much information as possible.\n",
        "        For summaries, provide a concise summary of the context given.\n",
        "        For insights, provide a list of insights from the context given. Focus on business elements, such as key markets, business eviolution history, etc.\n",
        "        Provide the answer in list format, with header.\n",
        "\n",
        "        here is example of how to provide the answer in list format:\n",
        "        ### Factual Information\n",
        "        - Business Name: Microsoft\n",
        "\n",
        "        ### Summary\n",
        "        - Microsoft is a technology company.\n",
        "\n",
        "        ### Insights\n",
        "        - Microsoft was founded in 1975.\n",
        "    '''.format(context=mdstr)\n",
        "\n",
        "    # \"Provide the Business name, Company name, Legal entity name, Date of incorporation?\"\n",
        "    prepped_userPrompt = mdstr\n",
        "\n",
        "    aoaiResp = getResponseFromAoAI(\n",
        "        prepped_systemPrompt,\n",
        "        prepped_userPrompt\n",
        "    )\n",
        "    cleaned_response = clean_json_string(aoaiResp)\n",
        "    # print(cleaned_response)\n",
        "    # add list of facts to the listoffacts with a new line\n",
        "    listoffacts += cleaned_response + \"\\n\\n\"\n",
        "\n",
        "# save list of facts to txt file\n",
        "mdjson_file_name = target_file_name.replace(\".pdf\", \" - results.txt\")\n",
        "listoffacts_file_path = os.path.join(os.path.dirname(os.path.abspath(\"__file__\")), \"txt\", mdjson_file_name)\n",
        "os.makedirs(os.path.dirname(listoffacts_file_path), exist_ok=True)\n",
        "with open(listoffacts_file_path, 'w') as txt_file:\n",
        "    txt_file.write(listoffacts)\n",
        "\n"
      ]
    },
    {
      "cell_type": "code",
      "execution_count": 50,
      "metadata": {},
      "outputs": [],
      "source": [
        "def group_information_by_section(input_text):  \n",
        "    # Split the text into lines  \n",
        "    lines = input_text.strip().split('\\n')  \n",
        "  \n",
        "    # Initialize dictionaries to hold the grouped items  \n",
        "    factual_info = []  \n",
        "    summary = []  \n",
        "    insights = []  \n",
        "  \n",
        "    # Define a variable to keep track of the current section  \n",
        "    current_section = None  \n",
        "  \n",
        "    # Iterate over each line in the input text  \n",
        "    for line in lines:  \n",
        "        # line = line.strip()  \n",
        "        if line.startswith('###'):  \n",
        "            # When a new section header is found, update the current section  \n",
        "            if 'Factual Information' in line:  \n",
        "                current_section = factual_info  \n",
        "            elif 'Summary' in line:  \n",
        "                current_section = summary  \n",
        "            elif 'Insights' in line:  \n",
        "                current_section = insights  \n",
        "        else: \n",
        "            # Add items to the current section  \n",
        "            if current_section is not None:\n",
        "                if line.startswith('-'):\n",
        "                    current_section.append(line)  \n",
        "                elif line.strip() != '':\n",
        "                    current_section.append(f'- {line}')\n",
        "  \n",
        "    # Return the grouped items  \n",
        "    return factual_info, summary, insights  \n",
        "  \n",
        "# Read the input text file\n",
        "mdjson_file_name = target_file_name.replace(\".pdf\", \" - results.txt\")\n",
        "listoffacts_file_path = os.path.join(os.path.dirname(os.path.abspath(\"__file__\")), \"txt\", mdjson_file_name)\n",
        "with open(listoffacts_file_path, \"r\") as file:\n",
        "    input_text = file.read()\n",
        "    factual_info, summary, insights = group_information_by_section(input_text)  \n",
        "\n",
        "\n",
        "# save list of facts to txt file\n",
        "fi_file_name = target_file_name.replace(\".pdf\", \" - factual information.txt\")\n",
        "fi_file_path = os.path.join(os.path.dirname(os.path.abspath(\"__file__\")), \"txt\", fi_file_name)\n",
        "os.makedirs(os.path.dirname(fi_file_path), exist_ok=True)\n",
        "with open(fi_file_path, 'w') as txt_file:\n",
        "    factual_info_str = \"### Factual Information\\n\" + \"\\n\".join(factual_info)\n",
        "    txt_file.write(factual_info_str)\n",
        "\n",
        "# save list of facts to txt file\n",
        "sum_file_name = target_file_name.replace(\".pdf\", \" - summary.txt\")\n",
        "sum_file_path = os.path.join(os.path.dirname(os.path.abspath(\"__file__\")), \"txt\", sum_file_name)\n",
        "os.makedirs(os.path.dirname(sum_file_path), exist_ok=True)\n",
        "with open(sum_file_path, 'w') as txt_file:\n",
        "    summary_str = \"### Summary\\n\" + \"\\n\".join(summary)\n",
        "    txt_file.write(summary_str)\n",
        "\n",
        "# save list of facts to txt file\n",
        "insig_file_name = target_file_name.replace(\".pdf\", \" - insight.txt\")\n",
        "insig_file_path = os.path.join(os.path.dirname(os.path.abspath(\"__file__\")), \"txt\", insig_file_name)\n",
        "os.makedirs(os.path.dirname(insig_file_path), exist_ok=True)\n",
        "with open(insig_file_path, 'w') as txt_file:\n",
        "    insights_str = \"### Insights\\n\" + \"\\n\".join(insights)\n",
        "    txt_file.write(insights_str)\n",
        "\n",
        "\n",
        "\n"
      ]
    },
    {
      "cell_type": "markdown",
      "metadata": {},
      "source": [
        "### Running overall summary"
      ]
    },
    {
      "cell_type": "code",
      "execution_count": 51,
      "metadata": {},
      "outputs": [
        {
          "name": "stdout",
          "output_type": "stream",
          "text": [
            "### Summary\n",
            "- The context provided does not contain any content to summarize.\n",
            "- Meta Platforms, Inc. reported its financial results for the first quarter of 2024, which ended on March 31, 2024. CEO Mark Zuckerberg described the start of the year as good and highlighted the release of Meta AI with Llama 3, indicating it as a step towards becoming the world's leading AI. He also noted healthy growth across Meta's apps and steady progress in building the metaverse.\n",
            "- The financial highlights for the first quarter of 2024 show significant growth compared to the same period in 2023. Revenue increased by 27%, while income from operations saw a dramatic rise of 91%. Net income more than doubled with a 117% increase, and diluted earnings per share also more than doubled, showing a 114% increase. Operating margin improved from 25% to 38%. The provision for income taxes went up by 14%, and the effective tax rate decreased from 22% to 13%.\n",
            "- The company reported a significant increase in daily active users, ad impressions, and average price per ad year-over-year for the first quarter of 2024. Revenue grew by 27%, while costs and expenses saw a smaller increase of 6%. Capital expenditures were substantial at $6.72 billion, and the company returned capital to shareholders through repurchases and dividends totaling $15.91 billion. The company's cash reserves were strong at $58.12 billion, with a healthy free cash flow of $12.53 billion. However, the company reduced its headcount by 10% compared to the previous year.\n",
            "- Meta expects Q2 2024 revenue to be between $36.5-39 billion, with a 1% headwind from foreign currency. The company has updated its full-year 2024 expense outlook to $96-99 billion due to increased infrastructure and legal costs. Reality Labs is projected to have significantly higher operating losses. Capital expenditures for 2024 are forecasted to be $35-40 billion, an increase to support AI investments, and are expected to rise further in the following year. The tax rate for 2024 is anticipated to be in the mid-teens. Meta is also keeping an eye on regulatory challenges in the EU and U.S. The company had a strong start to the year with its Family of Apps and is progressing in AI and Reality Labs initiatives. A conference call to discuss these results will be held and can be accessed via investor.fb.com, where related materials and a replay will also be available.\n",
            "- Meta, formerly known for launching Facebook in 2004, is a company that develops technology to connect people and help businesses grow. It owns popular apps such as Messenger, Instagram, and WhatsApp. Currently, Meta is focusing on creating immersive experiences through augmented and virtual reality as part of the next evolution in social technology. The company provides contact information for investor and press inquiries.\n",
            "- The press release from April 24, 2024, discusses forward-looking statements about the company's future plans and expectations, highlighting that these are predictions and subject to change due to various internal and external factors. These factors range from macroeconomic conditions to the company's reliance on advertising revenue, competition, and regulatory challenges. The company acknowledges the potential for actual results to differ from predictions and cites detailed risk factors in its Annual Report on Form 10-K. The company also notes that it does not commit to updating the forward-looking statements as circumstances change.\n",
            "- Meta Platforms, Inc. uses non-GAAP financial measures to supplement its GAAP financial statements. These measures are adjusted for certain items such as the foreign exchange effect on revenue and capital expenditures related to property and equipment. The company believes these measures provide useful supplemental information to investors and allow for better comparison of financial results across different periods. For the first quarter of 2024, Meta Platforms reported significant increases in revenue and net income compared to the first quarter of 2023. The balance sheets and cash flow statements provide detailed financial positions and activities, including cash and cash equivalents, operating activities, and investing and financing activities.\n",
            "- The company, which includes the Family of Apps and Reality Labs segments, reported an increase in total revenue from $28,645 million in Q1 2023 to $36,455 million in Q1 2024. The Family of Apps segment saw an increase in revenue from $28,306 million to $36,015 million, while Reality Labs increased from $339 million to $440 million in the same period. The company's total income from operations also rose from $7,227 million to $13,818 million year-over-year. The advertising revenue grew by 27%, contributing significantly to the overall revenue increase. The company's free cash flow more than doubled from $6,911 million in Q1 2023 to $12,531 million in Q1 2024.\n",
            "Meta Platforms, Inc. reported strong financial results for Q1 2024, with CEO Mark Zuckerberg expressing satisfaction with the company's performance, including the launch of Meta AI with Llama 3. Financially, the company saw a 27% increase in revenue, a 91% rise in income from operations, and more than a doubling of net income and diluted earnings per share. Operating margin improved significantly, and the effective tax rate decreased. User engagement and advertising metrics also grew.\n",
            "\n",
            "The company's costs and expenses increased by 6%, with substantial capital expenditures of $6.72 billion. Despite a 10% reduction in headcount, Meta returned $15.91 billion to shareholders and reported strong cash reserves and free cash flow. Looking ahead, Q2 2024 revenue is expected to be between $36.5-39 billion, with full-year expenses projected at $96-99 billion, mainly due to infrastructure and legal costs. Reality Labs is expected to incur higher losses, and capital expenditures will increase to support AI investments.\n",
            "\n",
            "Meta, which owns apps like Messenger, Instagram, and WhatsApp, is focusing on augmented and virtual reality technologies. The company's forward-looking statements in the press release are subject to change due to various factors, including economic conditions and regulatory challenges. Non-GAAP financial measures are used to provide supplemental information to investors.\n",
            "\n",
            "For Q1 2024, Meta's total revenue increased to $36,455 million from $28,645 million in Q1 2023, with the Family of Apps segment and Reality Labs both contributing to the growth. Advertising revenue grew by 27%, and free cash flow more than doubled year-over-year. The company is monitoring regulatory challenges and is committed to advancing in AI and the metaverse. Additional financial details and a conference call are available on the investor relations website.\n"
          ]
        }
      ],
      "source": [
        "# loading the summary file\n",
        "sum_file_name = target_file_name.replace(\".pdf\", \" - summary.txt\")\n",
        "sum_file_path = os.path.join(os.path.dirname(os.path.abspath(\"__file__\")), \"txt\", sum_file_name)\n",
        "with open(sum_file_path, 'r') as file:\n",
        "    summary_data = file.read()\n",
        "    print(summary_data)\n",
        "    prepped_systemPrompt = '''\n",
        "        You are a helpful assistant that helps summarize information, only use the context given by user.\n",
        "        Be as detailed as possible.\n",
        "        Context will be provided as list, and wrapped in triple quotes.\n",
        "    '''\n",
        "    # \"Provide the Business name, Company name, Legal entity name, Date of incorporation?\"\n",
        "    prepped_userPrompt = '''\n",
        "        \"\"\"\n",
        "            {context}\n",
        "        \"\"\"\n",
        "\n",
        "        Summarize the information provided in the context.\n",
        "    '''.format(context=summary_data)\n",
        "\n",
        "    aoaiResp = getResponseFromAoAI(\n",
        "        prepped_systemPrompt,\n",
        "        prepped_userPrompt\n",
        "    )\n",
        "\n",
        "    print(aoaiResp)\n",
        "\n",
        "    # save list of facts to txt file\n",
        "    sum_file_name = target_file_name.replace(\".pdf\", \" - overall summary.txt\")\n",
        "    sum_file_path = os.path.join(os.path.dirname(os.path.abspath(\"__file__\")), \"txt\", sum_file_name)\n",
        "    os.makedirs(os.path.dirname(sum_file_path), exist_ok=True)\n",
        "    with open(sum_file_path, 'w') as txt_file:\n",
        "        txt_file.write(aoaiResp)\n"
      ]
    }
  ],
  "metadata": {
    "kernel_info": {
      "name": "python38-azureml"
    },
    "kernelspec": {
      "display_name": ".venv",
      "language": "python",
      "name": "python3"
    },
    "language_info": {
      "codemirror_mode": {
        "name": "ipython",
        "version": 3
      },
      "file_extension": ".py",
      "mimetype": "text/x-python",
      "name": "python",
      "nbconvert_exporter": "python",
      "pygments_lexer": "ipython3",
      "version": "3.11.9"
    },
    "microsoft": {
      "host": {
        "AzureML": {
          "notebookHasBeenCompleted": true
        }
      },
      "ms_spell_check": {
        "ms_spell_check_language": "en"
      }
    },
    "nteract": {
      "version": "nteract-front-end@1.0.0"
    }
  },
  "nbformat": 4,
  "nbformat_minor": 2
}
